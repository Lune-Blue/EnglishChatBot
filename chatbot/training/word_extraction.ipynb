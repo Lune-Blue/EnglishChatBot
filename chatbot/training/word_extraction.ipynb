{
 "cells": [
  {
   "cell_type": "code",
   "execution_count": null,
   "source": [
    "import nltk\n",
    "nltk.download('punkt')\n",
    "nltk.download('averaged_perceptron_tagger')"
   ],
   "outputs": [],
   "metadata": {}
  },
  {
   "cell_type": "code",
   "execution_count": 4,
   "source": [
    "import nltk\n",
    "\n",
    "sentence = \"hi my name is seungjun\"\n",
    "\n",
    "tokens = nltk.word_tokenize(sentence)\n",
    "\n",
    "print(tokens)\n",
    "\n",
    "tags = nltk.pos_tag(tokens)\n",
    "\n",
    "print(tags)"
   ],
   "outputs": [
    {
     "output_type": "stream",
     "name": "stdout",
     "text": [
      "['hi', 'my', 'name', 'is', 'seungjun']\n",
      "[('hi', 'NN'), ('my', 'PRP$'), ('name', 'NN'), ('is', 'VBZ'), ('seungjun', 'JJ')]\n"
     ]
    }
   ],
   "metadata": {}
  },
  {
   "cell_type": "code",
   "execution_count": 10,
   "source": [
    "result_arr =[]\n",
    "\n",
    "print(tokens)\n",
    "for token in tags:\n",
    "    if token[1].startswith('V') or token[1].startswith('N'):\n",
    "        result_arr.append(token[0])\n",
    "\n",
    "\n",
    "print(result_arr)"
   ],
   "outputs": [
    {
     "output_type": "stream",
     "name": "stdout",
     "text": [
      "['hi', 'my', 'name', 'is', 'seungjun']\n",
      "['hi', 'name', 'is']\n"
     ]
    }
   ],
   "metadata": {}
  }
 ],
 "metadata": {
  "orig_nbformat": 4,
  "language_info": {
   "name": "python",
   "version": "3.7.11",
   "mimetype": "text/x-python",
   "codemirror_mode": {
    "name": "ipython",
    "version": 3
   },
   "pygments_lexer": "ipython3",
   "nbconvert_exporter": "python",
   "file_extension": ".py"
  },
  "kernelspec": {
   "name": "python3",
   "display_name": "Python 3.7.11 64-bit ('seungjun': conda)"
  },
  "interpreter": {
   "hash": "341a64a73c71f72c73c43a5871309cda6749634f7d74501be19d508023bea49b"
  }
 },
 "nbformat": 4,
 "nbformat_minor": 2
}