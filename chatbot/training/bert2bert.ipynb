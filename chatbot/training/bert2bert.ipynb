{
 "cells": [
  {
   "cell_type": "code",
   "execution_count": 1,
   "source": [
    "import pandas as pd\n",
    "train_path = '/home/intern/seungjun/error_data/train.csv'\n",
    "test_path = '/home/intern/seungjun/error_data/eval.csv'\n",
    "\n",
    "train_data = pd.read_csv(train_path, encoding='utf-8')\n",
    "test_data = pd.read_csv(test_path, encoding='utf-8')\n",
    "\n",
    "train_data.dropna(axis=0, inplace=True)\n",
    "test_data.dropna(axis=0, inplace=True)\n",
    "\n",
    "train_input = train_data['input'].tolist()\n",
    "train_label = train_data['target'].tolist()\n",
    "\n",
    "test_input = test_data['input'].tolist()\n",
    "test_label = test_data['target'].tolist()\n",
    "\n",
    "print(len(train_input))\n",
    "print(len(train_label))"
   ],
   "outputs": [
    {
     "output_type": "stream",
     "name": "stdout",
     "text": [
      "3016\n",
      "3016\n"
     ]
    }
   ],
   "metadata": {}
  },
  {
   "cell_type": "code",
   "execution_count": 2,
   "source": [
    "import torch\n",
    "import numpy as np\n",
    "from transformers import EncoderDecoderModel, BertTokenizer, AutoTokenizer\n",
    "tokenizer = AutoTokenizer.from_pretrained(\"google/roberta2roberta_L-24_discofuse\")\n",
    "\n",
    "bert_inputs_tokenize = tokenizer(train_input, return_tensors='pt', padding=True)\n",
    "bert_outputs_tokenize = tokenizer(train_label, return_tensors='pt', padding=True)\n",
    "bert_labels_tokenize = tokenizer(train_label, return_tensors='pt', padding=True)\n",
    "\n",
    "for labels in bert_labels_tokenize['input_ids']:\n",
    "    for i in range(len(labels)):\n",
    "        if labels[i]==tokenizer.pad_token_id:\n",
    "            labels[i] = -100\n",
    "\n",
    "\n",
    "# torch.save(bert_inputs_tokenize, '/home/intern/seungjun/error_data/input_bert_example.pkl')\n",
    "# torch.save(bert_outputs_tokenize, '/home/intern/seungjun/error_data/output_bert_example.pkl')\n",
    "# torch.save(bert_labels_tokenize, '/home/intern/seungjun/error_data/label_bert_example.pkl')\n",
    "\n",
    "\n"
   ],
   "outputs": [
    {
     "output_type": "stream",
     "name": "stderr",
     "text": [
      "normalizer.cc(51) LOG(INFO) precompiled_charsmap is empty. use identity normalization.\n"
     ]
    }
   ],
   "metadata": {}
  },
  {
   "cell_type": "code",
   "execution_count": 10,
   "source": [
    "import torch\n",
    "import numpy as np\n",
    "from transformers import EncoderDecoderModel, BertTokenizer, AutoTokenizer\n",
    "tokenizer = AutoTokenizer.from_pretrained(\"google/roberta2roberta_L-24_discofuse\")\n",
    "\n",
    "eval_inputs_tokenize = tokenizer(test_input, return_tensors='pt', padding=True)\n",
    "eval_outputs_tokenize = tokenizer(test_label, return_tensors='pt', padding=True)\n",
    "eval_labels_tokenize = tokenizer(test_label, return_tensors='pt', padding=True)\n",
    "\n",
    "for labels in eval_labels_tokenize['input_ids']:\n",
    "    for i in range(len(labels)):\n",
    "        if labels[i]==tokenizer.pad_token_id:\n",
    "            labels[i] = -100\n",
    "\n",
    "\n",
    "\n",
    "\n",
    "\n",
    "\n",
    "\n",
    "torch.save(eval_inputs_tokenize, '/home/intern/seungjun/error_data/eval_input_example.pkl')\n",
    "torch.save(eval_outputs_tokenize, '/home/intern/seungjun/error_data/eval_output_example.pkl')\n",
    "torch.save(eval_labels_tokenize, '/home/intern/seungjun/error_data/eval_label_example.pkl')"
   ],
   "outputs": [
    {
     "output_type": "stream",
     "name": "stderr",
     "text": [
      "normalizer.cc(51) LOG(INFO) precompiled_charsmap is empty. use identity normalization.\n"
     ]
    }
   ],
   "metadata": {}
  },
  {
   "cell_type": "code",
   "execution_count": 18,
   "source": [
    "# print(bert_inputs_tokenize['input_ids'][20])\n",
    "# print(bert_outputs_tokenize['input_ids'][20])\n",
    "# print(bert_labels_tokenize['input_ids'][20])\n",
    "\n",
    "print(tokenizer.convert_ids_to_tokens(bert_inputs_tokenize['input_ids'][10]))\n",
    "print(tokenizer.convert_ids_to_tokens(bert_inputs_tokenize['input_ids'][20]))\n"
   ],
   "outputs": [
    {
     "output_type": "stream",
     "name": "stdout",
     "text": [
      "tensor([23592,   126,  1220,  3298,   363,  7109,   938,   689,   603,   938,\n",
      "          385,  5102,   529,  1150,  1821,   452,   578,   878,  5099,  9492,\n",
      "          391,   578,   427,   576,  1783,   585,   756,  3461,   888,  1324,\n",
      "          611,   756,   385,  2721,   612,  4301,   865,     0,     0,     0,\n",
      "            0,     0,     0,     0,     0,     0,     0,     0,     0,     0,\n",
      "            0,     0,     0,     0,     0,     0,     0,     0,     0,     0,\n",
      "            0,     0,     0,     0,     0,     0,     0,     0,     0,     0,\n",
      "            0,     0,     0,     0,     0,     0,     0,     0,     0,     0,\n",
      "            0,     0,     0,     0,     0,     0])\n",
      "tensor([1220, 3298,  388,  363, 7109,  938,  689,  603,  938,  385, 5102,  358,\n",
      "        1150, 1821,  452, 5099, 9492,  938,  576, 1783,  938,  585,  756,  888,\n",
      "         611,  878, 2557,  385, 2721,  612, 4301,  865,    0,    0,    0,    0,\n",
      "           0,    0,    0,    0,    0,    0,    0,    0,    0,    0,    0,    0,\n",
      "           0,    0,    0,    0,    0,    0,    0,    0,    0,    0,    0,    0,\n",
      "           0,    0,    0,    0,    0,    0,    0,    0,    0,    0,    0,    0,\n",
      "           0,    0,    0,    0,    0,    0,    0,    0,    0,    0,    0,    0])\n",
      "tensor([1220, 3298,  388,  363, 7109,  938,  689,  603,  938,  385, 5102,  358,\n",
      "        1150, 1821,  452, 5099, 9492,  938,  576, 1783,  938,  585,  756,  888,\n",
      "         611,  878, 2557,  385, 2721,  612, 4301,  865, -100, -100, -100, -100,\n",
      "        -100, -100, -100, -100, -100, -100, -100, -100, -100, -100, -100, -100,\n",
      "        -100, -100, -100, -100, -100, -100, -100, -100, -100, -100, -100, -100,\n",
      "        -100, -100, -100, -100, -100, -100, -100, -100, -100, -100, -100, -100,\n",
      "        -100, -100, -100, -100, -100, -100, -100, -100, -100, -100, -100, -100])\n",
      "['▁grammar', ':', '▁They', '▁draw', '▁the', '▁consumers', '▁,', '▁like', '▁me', '▁,', '▁to', '▁purchase', '▁this', '▁great', '▁product', '▁with', '▁all', '▁these', '▁amazing', '▁ingredients', '▁and', '▁all', '▁that', '▁but', '▁actually', '▁they', '▁just', '▁sometimes', '▁make', '▁something', '▁up', '▁just', '▁to', '▁increase', '▁their', '▁sales', '▁.', '<pad>', '<pad>', '<pad>', '<pad>', '<pad>', '<pad>', '<pad>', '<pad>', '<pad>', '<pad>', '<pad>', '<pad>', '<pad>', '<pad>', '<pad>', '<pad>', '<pad>', '<pad>', '<pad>', '<pad>', '<pad>', '<pad>', '<pad>', '<pad>', '<pad>', '<pad>', '<pad>', '<pad>', '<pad>', '<pad>', '<pad>', '<pad>', '<pad>', '<pad>', '<pad>', '<pad>', '<pad>', '<pad>', '<pad>', '<pad>', '<pad>', '<pad>', '<pad>', '<pad>', '<pad>', '<pad>', '<pad>', '<pad>', '<pad>']\n"
     ]
    }
   ],
   "metadata": {}
  },
  {
   "cell_type": "code",
   "execution_count": null,
   "source": [
    "from transformers import EncoderDecoderModel, BertTokenizer, AutoTokenizer\n",
    "\n",
    "model = EncoderDecoderModel.from_pretrained(\"google/roberta2roberta_L-24_discofuse\").to('cuda')\n",
    "tokenizer = AutoTokenizer.from_pretrained(\"google/roberta2roberta_L-24_discofuse\")\n",
    "\n",
    "input_ids = tokenizer('This is a long article to summarize', add_special_tokens=False, return_tensors=\"pt\").input_ids\n",
    "labels = tokenizer('This is a short summary', return_tensors=\"pt\").input_ids\n",
    "\n",
    "outputs = model.generate(input_ids)\n",
    "\n",
    "print([tokenizer.decode(g, skip_special_tokens=True, clean_up_tokenization_spaces=False) for g in outputs])"
   ],
   "outputs": [],
   "metadata": {}
  },
  {
   "cell_type": "code",
   "execution_count": null,
   "source": [
    "from tqdm import tqdm\n",
    "import torch.optim as optim\n",
    "import torch\n",
    "from transformers import EncoderDecoderModel, BertTokenizer, AutoTokenizer\n",
    "\n",
    "\n",
    "model = EncoderDecoderModel.from_pretrained(\"google/roberta2roberta_L-24_discofuse\").to('cuda')\n",
    "tokenizer = AutoTokenizer.from_pretrained(\"google/roberta2roberta_L-24_discofuse\")\n",
    "\n",
    "optimizer = optim.Adam(model.parameters(), lr=5e-5)\n",
    "\n",
    "bert_input_tokenize = torch.load('/home/intern/seungjun/error_data/input_bert_example.pkl')\n",
    "bert_label_tokenize = torch.load('/home/intern/seungjun/error_data/label_bert_example.pkl')\n",
    "temp_bert_input = bert_input_tokenize['input_ids'][0:2].to('cuda')\n",
    "temp_bert_mask = bert_input_tokenize['attention_mask'][0:2].to('cuda')\n",
    "temp_bert_label = bert_label_tokenize['input_ids'][0:2].to('cuda')\n",
    "temp_bert_label_mask = bert_label_tokenize['attention_mask'][0:2].to('cuda')\n",
    "\n",
    "temp = model(input_ids = temp_bert_input, attention_mask = temp_bert_mask, decoder_input_ids = temp_bert_label, decoder_attention_mask = temp_bert_label_mask, labels=temp_bert_label)\n",
    "print(len(bert_input_tokenize['input_ids']))\n"
   ],
   "outputs": [],
   "metadata": {}
  },
  {
   "cell_type": "code",
   "execution_count": 3,
   "source": [
    "from tqdm import tqdm\n",
    "import torch.optim as optim\n",
    "import torch\n",
    "from transformers import EncoderDecoderModel, BertTokenizer, AutoTokenizer\n",
    "\n",
    "\n",
    "model = EncoderDecoderModel.from_pretrained(\"google/roberta2roberta_L-24_discofuse\").to('cuda')\n",
    "model.train()\n",
    "tokenizer = AutoTokenizer.from_pretrained(\"google/roberta2roberta_L-24_discofuse\")\n",
    "\n",
    "optimizer = optim.Adam(model.parameters(), lr=1e-5)\n",
    "\n",
    "def training_bert2bert(batch_size):\n",
    "    total_train_loss =0\n",
    "    bert_input_tokenize = torch.load('/home/intern/seungjun/error_data/input_bert_example.pkl')\n",
    "    bert_output_tokenize = torch.load('/home/intern/seungjun/error_data/output_bert_example.pkl')\n",
    "    bert_label_tokenize = torch.load('/home/intern/seungjun/error_data/label_bert_example.pkl')\n",
    "    k=0\n",
    "    for iter in tqdm(range(len(bert_input_tokenize['input_ids'])//batch_size)):\n",
    "        optimizer.zero_grad()\n",
    "        temp_bert_input = bert_input_tokenize['input_ids'][iter*batch_size:(iter+1)*batch_size].to('cuda')\n",
    "        temp_bert_mask = bert_input_tokenize['attention_mask'][iter*batch_size:(iter+1)*batch_size].to('cuda')\n",
    "        temp_bert_label = bert_label_tokenize['input_ids'][iter*batch_size:(iter+1)*batch_size].to('cuda')\n",
    "        temp_bert_output = bert_output_tokenize['input_ids'][iter*batch_size:(iter+1)*batch_size].to('cuda')\n",
    "        temp_bert_output_mask = bert_output_tokenize['attention_mask'][iter*batch_size:(iter+1)*batch_size].to('cuda')\n",
    "        temp = model(input_ids = temp_bert_input, attention_mask = temp_bert_mask, decoder_input_ids = temp_bert_output, decoder_attention_mask = temp_bert_output_mask, labels=temp_bert_label)\n",
    "        total_train_loss +=temp.loss.item()\n",
    "        if(k%100==0 and k!=0):\n",
    "            print(\"loss: \", temp.loss.item())\n",
    "            print(\"loss average: \", total_train_loss/100)\n",
    "            total_train_loss =0\n",
    "        temp.loss.backward()\n",
    "        optimizer.step()     \n",
    "        k+=1"
   ],
   "outputs": [
    {
     "output_type": "stream",
     "name": "stderr",
     "text": [
      "normalizer.cc(51) LOG(INFO) precompiled_charsmap is empty. use identity normalization.\n"
     ]
    }
   ],
   "metadata": {}
  },
  {
   "cell_type": "code",
   "execution_count": 4,
   "source": [
    "import torch\n",
    "epochs = 5\n",
    "\n",
    "for epoch in range(epochs):\n",
    "    training_bert2bert(5)\n",
    "    model.save_pretrained('/home/intern/seungjun/error_model/bert2bert'+str(epoch))"
   ],
   "outputs": [
    {
     "output_type": "stream",
     "name": "stderr",
     "text": [
      " 17%|█▋        | 101/603 [00:21<01:44,  4.78it/s]"
     ]
    },
    {
     "output_type": "stream",
     "name": "stdout",
     "text": [
      "loss:  2.9753775596618652\n",
      "loss average:  3.284179254770279\n"
     ]
    },
    {
     "output_type": "stream",
     "name": "stderr",
     "text": [
      " 33%|███▎      | 201/603 [00:42<01:24,  4.75it/s]"
     ]
    },
    {
     "output_type": "stream",
     "name": "stdout",
     "text": [
      "loss:  3.084143877029419\n",
      "loss average:  2.444235122203827\n"
     ]
    },
    {
     "output_type": "stream",
     "name": "stderr",
     "text": [
      " 50%|████▉     | 301/603 [01:03<01:02,  4.82it/s]"
     ]
    },
    {
     "output_type": "stream",
     "name": "stdout",
     "text": [
      "loss:  1.587853193283081\n",
      "loss average:  2.6177733790874482\n"
     ]
    },
    {
     "output_type": "stream",
     "name": "stderr",
     "text": [
      " 67%|██████▋   | 401/603 [01:24<00:41,  4.82it/s]"
     ]
    },
    {
     "output_type": "stream",
     "name": "stdout",
     "text": [
      "loss:  1.7501237392425537\n",
      "loss average:  2.2707094007730486\n"
     ]
    },
    {
     "output_type": "stream",
     "name": "stderr",
     "text": [
      " 83%|████████▎ | 501/603 [01:45<00:21,  4.79it/s]"
     ]
    },
    {
     "output_type": "stream",
     "name": "stdout",
     "text": [
      "loss:  1.1133735179901123\n",
      "loss average:  1.8942623537778855\n"
     ]
    },
    {
     "output_type": "stream",
     "name": "stderr",
     "text": [
      "100%|█████████▉| 601/603 [02:06<00:00,  4.79it/s]"
     ]
    },
    {
     "output_type": "stream",
     "name": "stdout",
     "text": [
      "loss:  1.66984224319458\n",
      "loss average:  1.9164921891689302\n"
     ]
    },
    {
     "output_type": "stream",
     "name": "stderr",
     "text": [
      "100%|██████████| 603/603 [02:07<00:00,  4.73it/s]\n",
      " 17%|█▋        | 101/603 [00:21<01:45,  4.75it/s]"
     ]
    },
    {
     "output_type": "stream",
     "name": "stdout",
     "text": [
      "loss:  1.4315507411956787\n",
      "loss average:  1.8107693964242935\n"
     ]
    },
    {
     "output_type": "stream",
     "name": "stderr",
     "text": [
      " 33%|███▎      | 201/603 [00:42<01:24,  4.77it/s]"
     ]
    },
    {
     "output_type": "stream",
     "name": "stdout",
     "text": [
      "loss:  2.455960512161255\n",
      "loss average:  1.6355440431833268\n"
     ]
    },
    {
     "output_type": "stream",
     "name": "stderr",
     "text": [
      " 50%|████▉     | 301/603 [01:03<01:03,  4.79it/s]"
     ]
    },
    {
     "output_type": "stream",
     "name": "stdout",
     "text": [
      "loss:  0.9114697575569153\n",
      "loss average:  1.8106550753116608\n"
     ]
    },
    {
     "output_type": "stream",
     "name": "stderr",
     "text": [
      " 67%|██████▋   | 401/603 [01:24<00:42,  4.78it/s]"
     ]
    },
    {
     "output_type": "stream",
     "name": "stdout",
     "text": [
      "loss:  1.6431267261505127\n",
      "loss average:  1.6900198698043822\n"
     ]
    },
    {
     "output_type": "stream",
     "name": "stderr",
     "text": [
      " 83%|████████▎ | 501/603 [01:45<00:21,  4.77it/s]"
     ]
    },
    {
     "output_type": "stream",
     "name": "stdout",
     "text": [
      "loss:  1.0764881372451782\n",
      "loss average:  1.4256219848990441\n"
     ]
    },
    {
     "output_type": "stream",
     "name": "stderr",
     "text": [
      "100%|█████████▉| 601/603 [02:08<00:00,  4.56it/s]"
     ]
    },
    {
     "output_type": "stream",
     "name": "stdout",
     "text": [
      "loss:  0.8182117342948914\n",
      "loss average:  1.5076737773418427\n"
     ]
    },
    {
     "output_type": "stream",
     "name": "stderr",
     "text": [
      "100%|██████████| 603/603 [02:08<00:00,  4.68it/s]\n",
      " 17%|█▋        | 101/603 [00:23<01:53,  4.43it/s]"
     ]
    },
    {
     "output_type": "stream",
     "name": "stdout",
     "text": [
      "loss:  1.1795728206634521\n",
      "loss average:  1.484289202094078\n"
     ]
    },
    {
     "output_type": "stream",
     "name": "stderr",
     "text": [
      " 33%|███▎      | 201/603 [00:44<01:28,  4.57it/s]"
     ]
    },
    {
     "output_type": "stream",
     "name": "stdout",
     "text": [
      "loss:  2.0641660690307617\n",
      "loss average:  1.3290638607740402\n"
     ]
    },
    {
     "output_type": "stream",
     "name": "stderr",
     "text": [
      " 50%|████▉     | 301/603 [01:05<01:02,  4.80it/s]"
     ]
    },
    {
     "output_type": "stream",
     "name": "stdout",
     "text": [
      "loss:  0.7007073163986206\n",
      "loss average:  1.62446573138237\n"
     ]
    },
    {
     "output_type": "stream",
     "name": "stderr",
     "text": [
      " 67%|██████▋   | 401/603 [01:26<00:41,  4.83it/s]"
     ]
    },
    {
     "output_type": "stream",
     "name": "stdout",
     "text": [
      "loss:  1.4283390045166016\n",
      "loss average:  1.4473246878385544\n"
     ]
    },
    {
     "output_type": "stream",
     "name": "stderr",
     "text": [
      " 83%|████████▎ | 501/603 [01:46<00:20,  4.86it/s]"
     ]
    },
    {
     "output_type": "stream",
     "name": "stdout",
     "text": [
      "loss:  1.252342939376831\n",
      "loss average:  1.235930243432522\n"
     ]
    },
    {
     "output_type": "stream",
     "name": "stderr",
     "text": [
      "100%|█████████▉| 601/603 [02:07<00:00,  4.84it/s]"
     ]
    },
    {
     "output_type": "stream",
     "name": "stdout",
     "text": [
      "loss:  0.6368958950042725\n",
      "loss average:  1.333348204791546\n"
     ]
    },
    {
     "output_type": "stream",
     "name": "stderr",
     "text": [
      "100%|██████████| 603/603 [02:07<00:00,  4.72it/s]\n",
      " 17%|█▋        | 101/603 [00:21<01:46,  4.73it/s]"
     ]
    },
    {
     "output_type": "stream",
     "name": "stdout",
     "text": [
      "loss:  0.7375320792198181\n",
      "loss average:  1.2784967744350433\n"
     ]
    },
    {
     "output_type": "stream",
     "name": "stderr",
     "text": [
      " 33%|███▎      | 201/603 [00:42<01:24,  4.77it/s]"
     ]
    },
    {
     "output_type": "stream",
     "name": "stdout",
     "text": [
      "loss:  1.6156524419784546\n",
      "loss average:  1.2029459831118583\n"
     ]
    },
    {
     "output_type": "stream",
     "name": "stderr",
     "text": [
      " 50%|████▉     | 301/603 [01:02<01:03,  4.76it/s]"
     ]
    },
    {
     "output_type": "stream",
     "name": "stdout",
     "text": [
      "loss:  0.5372272729873657\n",
      "loss average:  1.3824022695422173\n"
     ]
    },
    {
     "output_type": "stream",
     "name": "stderr",
     "text": [
      " 67%|██████▋   | 401/603 [01:23<00:42,  4.77it/s]"
     ]
    },
    {
     "output_type": "stream",
     "name": "stdout",
     "text": [
      "loss:  1.3793941736221313\n",
      "loss average:  1.2527386397123337\n"
     ]
    },
    {
     "output_type": "stream",
     "name": "stderr",
     "text": [
      " 83%|████████▎ | 501/603 [01:44<00:21,  4.80it/s]"
     ]
    },
    {
     "output_type": "stream",
     "name": "stdout",
     "text": [
      "loss:  0.7323585152626038\n",
      "loss average:  1.1533604738116265\n"
     ]
    },
    {
     "output_type": "stream",
     "name": "stderr",
     "text": [
      "100%|█████████▉| 601/603 [02:05<00:00,  4.78it/s]"
     ]
    },
    {
     "output_type": "stream",
     "name": "stdout",
     "text": [
      "loss:  0.601649820804596\n",
      "loss average:  1.166173922419548\n"
     ]
    },
    {
     "output_type": "stream",
     "name": "stderr",
     "text": [
      "100%|██████████| 603/603 [02:06<00:00,  4.77it/s]\n",
      " 17%|█▋        | 101/603 [00:21<01:44,  4.79it/s]"
     ]
    },
    {
     "output_type": "stream",
     "name": "stdout",
     "text": [
      "loss:  0.8340504169464111\n",
      "loss average:  1.1343969997763634\n"
     ]
    },
    {
     "output_type": "stream",
     "name": "stderr",
     "text": [
      " 33%|███▎      | 201/603 [00:42<01:24,  4.78it/s]"
     ]
    },
    {
     "output_type": "stream",
     "name": "stdout",
     "text": [
      "loss:  1.2898160219192505\n",
      "loss average:  1.1180884659290313\n"
     ]
    },
    {
     "output_type": "stream",
     "name": "stderr",
     "text": [
      " 50%|████▉     | 301/603 [01:02<01:03,  4.77it/s]"
     ]
    },
    {
     "output_type": "stream",
     "name": "stdout",
     "text": [
      "loss:  0.5584772229194641\n",
      "loss average:  1.2210919257998467\n"
     ]
    },
    {
     "output_type": "stream",
     "name": "stderr",
     "text": [
      " 67%|██████▋   | 401/603 [01:23<00:42,  4.72it/s]"
     ]
    },
    {
     "output_type": "stream",
     "name": "stdout",
     "text": [
      "loss:  1.2332909107208252\n",
      "loss average:  1.1219483345746994\n"
     ]
    },
    {
     "output_type": "stream",
     "name": "stderr",
     "text": [
      " 83%|████████▎ | 501/603 [01:44<00:21,  4.76it/s]"
     ]
    },
    {
     "output_type": "stream",
     "name": "stdout",
     "text": [
      "loss:  0.6619434356689453\n",
      "loss average:  0.9908274564146996\n"
     ]
    },
    {
     "output_type": "stream",
     "name": "stderr",
     "text": [
      "100%|█████████▉| 601/603 [02:05<00:00,  4.83it/s]"
     ]
    },
    {
     "output_type": "stream",
     "name": "stdout",
     "text": [
      "loss:  0.6612686514854431\n",
      "loss average:  1.0527243113517761\n"
     ]
    },
    {
     "output_type": "stream",
     "name": "stderr",
     "text": [
      "100%|██████████| 603/603 [02:06<00:00,  4.77it/s]\n"
     ]
    }
   ],
   "metadata": {}
  },
  {
   "cell_type": "code",
   "execution_count": 5,
   "source": [
    "import torch\n",
    "import torch.optim as optim\n",
    "from transformers import EncoderDecoderModel, BertTokenizer, AutoTokenizer\n",
    "\n",
    "\n",
    "model = EncoderDecoderModel.from_pretrained('/home/intern/seungjun/error_model/bert2bert4').to('cuda')\n",
    "tokenizer = AutoTokenizer.from_pretrained(\"google/roberta2roberta_L-24_discofuse\")\n",
    "\n",
    "def ErrorSolution_bert2bert(input_string):\n",
    "    input_ids = tokenizer(\"grammar: \" + input_string, add_special_tokens=False, return_tensors=\"pt\").input_ids.to('cuda')\n",
    "    tokenized_input = tokenizer([input_string], return_tensors='pt').to('cuda')\n",
    "    summary_ids = model.generate(input_ids)\n",
    "\n",
    "    result_arr =[]\n",
    "    result = [tokenizer.decode(g, skip_special_tokens=True, clean_up_tokenization_spaces=False) for g in summary_ids]\n",
    "    result_arr.extend(result)\n",
    "\n",
    "    return result_arr\n",
    "\n",
    "\n"
   ],
   "outputs": [
    {
     "output_type": "stream",
     "name": "stderr",
     "text": [
      "normalizer.cc(51) LOG(INFO) precompiled_charsmap is empty. use identity normalization.\n"
     ]
    }
   ],
   "metadata": {}
  },
  {
   "cell_type": "code",
   "execution_count": 11,
   "source": [
    "ErrorSolution_bert2bert(\" Likewise , The theory generating from the concept of memory is also not the appropriate way due to limited memory \")"
   ],
   "outputs": [
    {
     "output_type": "execute_result",
     "data": {
      "text/plain": [
       "[', the the theory generating from the concept of memory is also not the appropriate way due to limited memory .']"
      ]
     },
     "metadata": {},
     "execution_count": 11
    }
   ],
   "metadata": {}
  },
  {
   "cell_type": "code",
   "execution_count": 7,
   "source": [
    "from tqdm import tqdm\n",
    "import torch.optim as optim\n",
    "import torch\n",
    "from transformers import EncoderDecoderModel, BertTokenizer, AutoTokenizer\n",
    "\n",
    "\n",
    "model = EncoderDecoderModel.from_pretrained('/home/intern/seungjun/error_model/bert2bert4').to('cuda')\n",
    "tokenizer = AutoTokenizer.from_pretrained(\"google/roberta2roberta_L-24_discofuse\")\n",
    "model.eval()\n",
    "\n",
    "\n",
    "\n",
    "def evaluating_bert2bert(batch_size):\n",
    "    total_eval_loss =0\n",
    "    bert_input_tokenize = torch.load('/home/intern/seungjun/error_data/eval_input_example.pkl')\n",
    "    bert_output_tokenize = torch.load('/home/intern/seungjun/error_data/eval_output_example.pkl')\n",
    "    bert_label_tokenize = torch.load('/home/intern/seungjun/error_data/eval_label_example.pkl')\n",
    "    for iter in tqdm(range(len(bert_input_tokenize['input_ids'])//batch_size)):\n",
    "        temp_bert_input = bert_input_tokenize['input_ids'][iter*batch_size:(iter+1)*batch_size].to('cuda')\n",
    "        temp_bert_mask = bert_input_tokenize['attention_mask'][iter*batch_size:(iter+1)*batch_size].to('cuda')\n",
    "        temp_bert_label = bert_label_tokenize['input_ids'][iter*batch_size:(iter+1)*batch_size].to('cuda')\n",
    "        temp_bert_output = bert_output_tokenize['input_ids'][iter*batch_size:(iter+1)*batch_size].to('cuda')\n",
    "        temp_bert_output_mask = bert_output_tokenize['attention_mask'][iter*batch_size:(iter+1)*batch_size].to('cuda')\n",
    "        with torch.no_grad():\n",
    "            temp = model(input_ids = temp_bert_input, attention_mask = temp_bert_mask, decoder_input_ids = temp_bert_output, decoder_attention_mask = temp_bert_output_mask, labels=temp_bert_label)\n",
    "        total_eval_loss +=temp.loss.item()\n",
    "    avg_loss = total_eval_loss/ (len(bert_input_tokenize['input_ids'])//batch_size)\n",
    "    print(\" Validation Loss: {0:.2f}\".format(avg_loss))"
   ],
   "outputs": [
    {
     "output_type": "stream",
     "name": "stderr",
     "text": [
      "normalizer.cc(51) LOG(INFO) precompiled_charsmap is empty. use identity normalization.\n"
     ]
    }
   ],
   "metadata": {}
  },
  {
   "cell_type": "code",
   "execution_count": 11,
   "source": [
    "evaluating_bert2bert(5)"
   ],
   "outputs": [
    {
     "output_type": "stream",
     "name": "stderr",
     "text": [
      "100%|██████████| 597/597 [00:25<00:00, 23.01it/s]"
     ]
    },
    {
     "output_type": "stream",
     "name": "stdout",
     "text": [
      " Validation Loss: 1.51\n"
     ]
    },
    {
     "output_type": "stream",
     "name": "stderr",
     "text": [
      "\n"
     ]
    }
   ],
   "metadata": {}
  }
 ],
 "metadata": {
  "orig_nbformat": 4,
  "language_info": {
   "name": "python",
   "version": "3.7.11",
   "mimetype": "text/x-python",
   "codemirror_mode": {
    "name": "ipython",
    "version": 3
   },
   "pygments_lexer": "ipython3",
   "nbconvert_exporter": "python",
   "file_extension": ".py"
  },
  "kernelspec": {
   "name": "python3",
   "display_name": "Python 3.7.11 64-bit ('seungjun': conda)"
  },
  "interpreter": {
   "hash": "341a64a73c71f72c73c43a5871309cda6749634f7d74501be19d508023bea49b"
  }
 },
 "nbformat": 4,
 "nbformat_minor": 2
}