{
 "cells": [
  {
   "cell_type": "code",
   "execution_count": 197,
   "metadata": {},
   "outputs": [
    {
     "name": "stdout",
     "output_type": "stream",
     "text": [
      "1.9.1\n"
     ]
    }
   ],
   "source": [
    "import torch\n",
    "\n",
    "print(torch.__version__)"
   ]
  },
  {
   "cell_type": "code",
   "execution_count": 51,
   "metadata": {},
   "outputs": [
    {
     "data": {
      "text/plain": [
       "['num_id',\n",
       " 'id',\n",
       " 'genre',\n",
       " 'year',\n",
       " 'title',\n",
       " 'text',\n",
       " 'nudity',\n",
       " 'violence',\n",
       " 'profanity',\n",
       " 'alcohol',\n",
       " 'frightening',\n",
       " 'rate']"
      ]
     },
     "execution_count": 51,
     "metadata": {},
     "output_type": "execute_result"
    }
   ],
   "source": [
    "import torch\n",
    "import pickle\n",
    "import pandas as pd\n",
    "with open('/home/intern/seungjun/testing_jump/dataset/d2_suitability/data/test_data.pickle','rb') as f:\n",
    "    data = torch.load(f)\n",
    "\n",
    "df = pd.DataFrame(data)\n",
    "list(df)\n"
   ]
  },
  {
   "cell_type": "code",
   "execution_count": null,
   "metadata": {},
   "outputs": [],
   "source": [
    "df.head()"
   ]
  },
  {
   "cell_type": "code",
   "execution_count": null,
   "metadata": {},
   "outputs": [],
   "source": [
    "print(len(df['text']))"
   ]
  },
  {
   "cell_type": "code",
   "execution_count": 55,
   "metadata": {},
   "outputs": [
    {
     "name": "stdout",
     "output_type": "stream",
     "text": [
      "\u001b[38;5;3m⚠ As of spaCy v3.0, shortcuts like 'en' are deprecated. Please use the\n",
      "full pipeline package name 'en_core_web_sm' instead.\u001b[0m\n",
      "Collecting en-core-web-sm==3.1.0\n",
      "  Downloading https://github.com/explosion/spacy-models/releases/download/en_core_web_sm-3.1.0/en_core_web_sm-3.1.0-py3-none-any.whl (13.6 MB)\n",
      "\u001b[K     |████████████████████████████████| 13.6 MB 9.2 MB/s \n",
      "\u001b[?25hRequirement already satisfied: spacy<3.2.0,>=3.1.0 in /home/common/miniconda3/envs/seungjun/lib/python3.7/site-packages (from en-core-web-sm==3.1.0) (3.1.4)\n",
      "Requirement already satisfied: requests<3.0.0,>=2.13.0 in /home/common/miniconda3/envs/seungjun/lib/python3.7/site-packages/requests-2.26.0-py3.7.egg (from spacy<3.2.0,>=3.1.0->en-core-web-sm==3.1.0) (2.26.0)\n",
      "Requirement already satisfied: typing-extensions<4.0.0.0,>=3.7.4 in /home/common/miniconda3/envs/seungjun/lib/python3.7/site-packages (from spacy<3.2.0,>=3.1.0->en-core-web-sm==3.1.0) (3.10.0.2)\n",
      "Requirement already satisfied: numpy>=1.15.0 in /home/common/miniconda3/envs/seungjun/lib/python3.7/site-packages (from spacy<3.2.0,>=3.1.0->en-core-web-sm==3.1.0) (1.20.3)\n",
      "Requirement already satisfied: srsly<3.0.0,>=2.4.1 in /home/common/miniconda3/envs/seungjun/lib/python3.7/site-packages (from spacy<3.2.0,>=3.1.0->en-core-web-sm==3.1.0) (2.4.2)\n",
      "Requirement already satisfied: preshed<3.1.0,>=3.0.2 in /home/common/miniconda3/envs/seungjun/lib/python3.7/site-packages (from spacy<3.2.0,>=3.1.0->en-core-web-sm==3.1.0) (3.0.6)\n",
      "Requirement already satisfied: pathy>=0.3.5 in /home/common/miniconda3/envs/seungjun/lib/python3.7/site-packages (from spacy<3.2.0,>=3.1.0->en-core-web-sm==3.1.0) (0.6.1)\n",
      "Requirement already satisfied: blis<0.8.0,>=0.4.0 in /home/common/miniconda3/envs/seungjun/lib/python3.7/site-packages (from spacy<3.2.0,>=3.1.0->en-core-web-sm==3.1.0) (0.7.5)\n",
      "Requirement already satisfied: catalogue<2.1.0,>=2.0.6 in /home/common/miniconda3/envs/seungjun/lib/python3.7/site-packages (from spacy<3.2.0,>=3.1.0->en-core-web-sm==3.1.0) (2.0.6)\n",
      "Requirement already satisfied: packaging>=20.0 in /home/common/miniconda3/envs/seungjun/lib/python3.7/site-packages (from spacy<3.2.0,>=3.1.0->en-core-web-sm==3.1.0) (21.0)\n",
      "Requirement already satisfied: tqdm<5.0.0,>=4.38.0 in /home/common/miniconda3/envs/seungjun/lib/python3.7/site-packages/tqdm-4.62.3-py3.7.egg (from spacy<3.2.0,>=3.1.0->en-core-web-sm==3.1.0) (4.62.3)\n",
      "Requirement already satisfied: pydantic!=1.8,!=1.8.1,<1.9.0,>=1.7.4 in /home/common/miniconda3/envs/seungjun/lib/python3.7/site-packages (from spacy<3.2.0,>=3.1.0->en-core-web-sm==3.1.0) (1.8.2)\n",
      "Requirement already satisfied: murmurhash<1.1.0,>=0.28.0 in /home/common/miniconda3/envs/seungjun/lib/python3.7/site-packages (from spacy<3.2.0,>=3.1.0->en-core-web-sm==3.1.0) (1.0.6)\n",
      "Requirement already satisfied: spacy-legacy<3.1.0,>=3.0.8 in /home/common/miniconda3/envs/seungjun/lib/python3.7/site-packages (from spacy<3.2.0,>=3.1.0->en-core-web-sm==3.1.0) (3.0.8)\n",
      "Requirement already satisfied: thinc<8.1.0,>=8.0.12 in /home/common/miniconda3/envs/seungjun/lib/python3.7/site-packages (from spacy<3.2.0,>=3.1.0->en-core-web-sm==3.1.0) (8.0.12)\n",
      "Requirement already satisfied: wasabi<1.1.0,>=0.8.1 in /home/common/miniconda3/envs/seungjun/lib/python3.7/site-packages (from spacy<3.2.0,>=3.1.0->en-core-web-sm==3.1.0) (0.8.2)\n",
      "Requirement already satisfied: setuptools in /home/common/miniconda3/envs/seungjun/lib/python3.7/site-packages (from spacy<3.2.0,>=3.1.0->en-core-web-sm==3.1.0) (58.0.4)\n",
      "Requirement already satisfied: jinja2 in /home/common/miniconda3/envs/seungjun/lib/python3.7/site-packages (from spacy<3.2.0,>=3.1.0->en-core-web-sm==3.1.0) (3.0.1)\n",
      "Requirement already satisfied: cymem<2.1.0,>=2.0.2 in /home/common/miniconda3/envs/seungjun/lib/python3.7/site-packages (from spacy<3.2.0,>=3.1.0->en-core-web-sm==3.1.0) (2.0.6)\n",
      "Requirement already satisfied: typer<0.5.0,>=0.3.0 in /home/common/miniconda3/envs/seungjun/lib/python3.7/site-packages (from spacy<3.2.0,>=3.1.0->en-core-web-sm==3.1.0) (0.4.0)\n",
      "Requirement already satisfied: zipp>=0.5 in /home/common/miniconda3/envs/seungjun/lib/python3.7/site-packages (from catalogue<2.1.0,>=2.0.6->spacy<3.2.0,>=3.1.0->en-core-web-sm==3.1.0) (3.6.0)\n",
      "Requirement already satisfied: pyparsing>=2.0.2 in /home/common/miniconda3/envs/seungjun/lib/python3.7/site-packages (from packaging>=20.0->spacy<3.2.0,>=3.1.0->en-core-web-sm==3.1.0) (2.4.7)\n",
      "Requirement already satisfied: smart-open<6.0.0,>=5.0.0 in /home/common/miniconda3/envs/seungjun/lib/python3.7/site-packages (from pathy>=0.3.5->spacy<3.2.0,>=3.1.0->en-core-web-sm==3.1.0) (5.2.1)\n",
      "Requirement already satisfied: certifi>=2017.4.17 in /home/common/miniconda3/envs/seungjun/lib/python3.7/site-packages (from requests<3.0.0,>=2.13.0->spacy<3.2.0,>=3.1.0->en-core-web-sm==3.1.0) (2021.5.30)\n",
      "Requirement already satisfied: charset-normalizer~=2.0.0 in /home/common/miniconda3/envs/seungjun/lib/python3.7/site-packages/charset_normalizer-2.0.6-py3.7.egg (from requests<3.0.0,>=2.13.0->spacy<3.2.0,>=3.1.0->en-core-web-sm==3.1.0) (2.0.6)\n",
      "Requirement already satisfied: idna<4,>=2.5 in /home/common/miniconda3/envs/seungjun/lib/python3.7/site-packages (from requests<3.0.0,>=2.13.0->spacy<3.2.0,>=3.1.0->en-core-web-sm==3.1.0) (2.10)\n",
      "Requirement already satisfied: urllib3<1.27,>=1.21.1 in /home/common/miniconda3/envs/seungjun/lib/python3.7/site-packages/urllib3-1.26.7-py3.7.egg (from requests<3.0.0,>=2.13.0->spacy<3.2.0,>=3.1.0->en-core-web-sm==3.1.0) (1.26.7)\n",
      "Requirement already satisfied: click<9.0.0,>=7.1.1 in /home/common/miniconda3/envs/seungjun/lib/python3.7/site-packages/click-8.0.1-py3.7.egg (from typer<0.5.0,>=0.3.0->spacy<3.2.0,>=3.1.0->en-core-web-sm==3.1.0) (8.0.1)\n",
      "Requirement already satisfied: importlib-metadata in /home/common/miniconda3/envs/seungjun/lib/python3.7/site-packages (from click<9.0.0,>=7.1.1->typer<0.5.0,>=0.3.0->spacy<3.2.0,>=3.1.0->en-core-web-sm==3.1.0) (4.8.1)\n",
      "Requirement already satisfied: MarkupSafe>=2.0 in /home/common/miniconda3/envs/seungjun/lib/python3.7/site-packages (from jinja2->spacy<3.2.0,>=3.1.0->en-core-web-sm==3.1.0) (2.0.1)\n",
      "\u001b[38;5;2m✔ Download and installation successful\u001b[0m\n",
      "You can now load the package via spacy.load('en_core_web_sm')\n"
     ]
    }
   ],
   "source": [
    "import torch\n",
    "from torchtext.legacy import data\n",
    "import torch.nn.functional as F\n",
    "from torch import nn\n",
    "from torch import optim\n",
    "from torch.distributions import Categorical\n",
    "from torchtext.legacy import datasets\n",
    "\n",
    "import random\n",
    "import numpy as np\n",
    "import os.path\n",
    "\n",
    "try:\n",
    "    import spacy\n",
    "except:\n",
    "    !pip install spacy\n",
    "    \n",
    "try:\n",
    "    spacy.load('en')\n",
    "except:\n",
    "    !python -m spacy download en"
   ]
  },
  {
   "cell_type": "code",
   "execution_count": 99,
   "metadata": {},
   "outputs": [
    {
     "name": "stdout",
     "output_type": "stream",
     "text": [
      "audience cheering thats last years battle year . international bboy competition held france last 15 years united states lost . went concert past weekend overheard high school kids saying bboying longer cool something parents . scared company everything ive built started bboying . obviously still cool france . government subsidizes battle year . government keeping hiphop alive . still cool russia germany korea . cool founded . would explain domestically sales . merchandising record sales ticket sales apparel . first time companys history international sales exceeding domestic . think bboying aint cool long hiphop isnt cool ? mean business company ? hey yo ! get ass . come man . sleep youre dead . see maid doesnt windows ? hell man ? ive calling aint answering . ive busy lately . right well bring busy ass open door . aint prison visit . look like shit . look came sweat came make proposition . gonna let ? okay old thing work ? thats japan versus korea world champions . mean bboying aint back days dancing man . mean whats farthest ever go battle bronx ? kids battling japan germany france . battle year coming right ? im sponsoring us crew . crew called las finest . kids good . acrobatic got skills theyre great . missing one thing want coach crew . know need money go check let know meets approval . freestyle sessions next month need prepare crew battle . basketball coach . doesnt matter . coach coach best ive ever seen man . aint guy anymore . come lets go check boys think suck walk away . dont want . mean seriously many opportunities come knocking window every day wb ? cant even keep shit straight . look im gonna stand pretend like know youre going cause dont . come man fire heart need win ability infect around get believe thing ? man still got shit . guys like dont lose . look man right aint . ill frank man know shes never coming back . know man ? prison visit . cell man . difference life made life opening doors made one closing . telephone rings receptionist dig one entertainment . please hold . dig one entertainment . may help ? dante wb ! welcome dig one baby . tell something good man . sighs yet . need homework see even pull right ? franklyn thats . 100 hours footage goes back four five years . need anything else ? hundred hours huh ? maybe pot coffee couple sandwiches . coffee right ? keep good shit right . cant plug cork overnight . doesnt work way . ill office . okay got fresh pot . mutes television want order dinner punch ? im good thank . yo look elbow spins . shit nasty . koreans came strong year . kboys like superheroes . nah wish . people exactly chosen comes breaking . mean people ? rhythmically challenged . stripped swag circumcision . ive made peace . anyway im fan . dope see us crew take botys . hell boty ? whats name ? franklyn blake . franklyn fill . botys stands battle year . world cup bboying . premier event big daddy . started germany 90s takes place france . cause thing french revere carbs dance . anyway 20 countries bring top crew battle world championship . nice jewish kid like knows ? dont teach pick chicks hebrew school breaking made cool . mean might jewish religion hiphop . youve seen planet bboy yeah ? ask something ? dante coach crew ? thats good question . planet bboy like bible . dope documentary bboying . see yeah . new sony tablet . sighs planet bboy got billion rentals netflix . come wake ! time sleep ! 9 00 . holed night ? hundred hours footage right ? guess homework huh ? enough anyway . shit happen ? feeling old yet ? little bit . moves guys pulling phenomenal . koreans fire . need fire crew . whats man ? got deal ? two conditions . first want franklyn assistant coach . right done . second one ? made little addendum contract . money ill take care . one line . read cant make man . chicken scratch . got terms . little place initials right . okay tough negotiator man . right lets go see crew hour . hey jan ? im busy . wont even take minute . cause coworkers id really appreciate . cause im boy standing front girl asking career . love movie . whats name ? franklyn see . go back first one . im sorry . didnt mean bother . okay lets go one kill roses . bands manager really wanted roses . right killing roses . wanted tell didnt know anything asking take coaching job . saying dont want ? want didnt want think put wb something . listen nobody puts wb anything even . yeah wanted make sure cool . mean hooked job dont want seem ungrateful . look man let level . dont even know . whats name ? im franklyn old ? ill 23 december . franklyn know two guys ? yeah yall groundbreakers back day . started crew called battle troop crew . battled battled crews . wb showed . comes foster kid georgia country hillbillytype swag something man unified crew . knows bring people together . early days hiphop back white boys rapping bboying . wasnt around back . black latino . would show battle oh man . laughs know ? hed leave cipher went white bread wonder bread . thats good . guess know call wb . oh yeah . dope stop breaking ? wanted right thing . see back days man broke . money bboying . got girlfriend pregnant uncle offered assistant basketball coaching job st . marks took . wait st . marks racked state championships ? head coach time . franklyn back ? dont follow . couple years ago wb lost wife son horrible car accident . completely tore world apart man . mean checked . im hoping hes ready check back . im right youre gonna learn five weeks man ever would five years place . doesnt work well tried right franklyn ? change think change life . didnt tell ? bring french . bring punkass koreans . looking good . like see . good job . coach think ? saw clapping . guys good . disrespect arent moves guys brought france ? wasnt anything like france . ive watching tapes . european tours regionals . youve changed sequencing yes basically routine four years ago . didnt tell coaching thing wasnt gonna fly ? dont tell shit . im trying play hard case want know options . sounds like threat right ? come man . coach says . end story . right everybody line right . come fellas . right everybody turn right . chins start walking . lets take outside . think got options right ? brought make em better kick em street . may little bit attitude dont care attitude . guys stuck . aint getting better . long crew five years ? six years . even worse . theyve hit tipping point . theyve stopped putting blood sweat tears winning battle started putting losing . trust man got plan . empty room . thats got . right whats plan ? make good . insanity damn thing expecting different result . thats weve . cant compete . competitors gonna bring best dancers us send one crew one city maybe two three toptier bboys . cherrypicking top bboys every crew every city across america . okay let get straight . youre saying put together kind bboy allstar team ? bboy dream team . thing basketball started sport . getting schooled olympics till put jordan magic bird barkley ewing court dream team . dream team time prepare . realize youre trying put together whole new crew ? battle year three months ? heres beauty . freestyle sessions next week . top crews gonna town . instead tuneup las finest turn tryout national team ? put word youre sponsoring dream team theyll come droves . opportunity lifetime . thats plan ? thats plan . better work . sway right listen . dante legendary bboy hiphop mogul putting nationwide shout . pay close attention . crews sea shining sea north south east west . man dante hunt americas best bboys represent us world championship . thats right hes gonna handpick dream team . want part get freestyle competition cross one think got takes represent red white blue youd better bring . okay terrence . terrence check check . man prowling bboy gold . crew takes need come . looking best best . dont care get . bring ass . blake heres first 32 . see theyre made . blake tell name youre . names sight representing desert rock . kilowatt cincinnati street kings . grifter miami viper crew . bambino rip rock crew baltimore . mayhem orlando florida . lil adonis chicago . flipz bronx rockers . go kid . representing philadelphia . anis hollywood jet funk via france . knock la strangler crew . names rooster . got five elements death footwork style power originality soul . aint got dont even get ring . breaking everything . means everything world . important thing life . live breathe . didnt really much found breaking . afghanistan needed bboying . breaking saved life . thing got . im bboy im gay lot people issue . imagine youre son rabbi youre trying cool break . youre jewish bboy . hes probably adopted . main goal think every bboy battle year . battle year like mecca bboying . like eli manning winning super bowl . like olympics breaking . battle year means everything bboy . deserve crew ? dream team without grifter . cause im damn good . takes one best ever . want team brings home . think battle ? main focus dont win got go back old life . damn good . kicking ass . think much love bboying . yeah bgirls . chattering shushing first want thank coming . appreciate efforts . great job . 22 spots fill please stand call name . first knock . knock yes ! hey let hear name . oorah yeah ! hear name ? man good . lil adonis . relieved sigh kilowatt . grunts gillatine . kid rebel . thats whats . us man us . abbstarr yeah ! ooh baby yes ! intricate made . finally rooster . call name thank coming . see franklyn . gentlemen prepared train harder faster longer humanly possible cause next nine weeks 13 make final dream team . scattered cheers damn . whats barbed wire ? hell place ? old abandoned juvenile detention center . shit mom right . always said id end place like . dante makes mad money . coach picked . used teach summer basketball camp closed . exactly bnai brith right ? listen man cause jewish doesnt mean best friends . good stuff . place nasty . flipz looks good . compared im joints goddamn hilton . welcome gentlemen . beautiful parklike setting gonna new home next months . dorms right . go ahead drop stuff get settled . nah man . yo place ? listen coach thinking ideas ever since made assistant . well want earn keep . anyway think get choreographer youre really serious making splash battle year . someone whos done world tours worked major artists . whats around neck franklyn ? coaching whistle . support whistle headcoach whistle franklyn . separates bboys . really want say . give damn whistle anything else ? wheres coaches quarters ? youll staying . battle year three months away . take moment think . three months nine sitting back couches 13 france representing america . center stage global arena . right nothing life ever . dont make mistake thinking im friend . im one purpose . turn team whatever means deem necessary period . cause right korea japan france russia world guys training 247 cause want win battle year . rules simple . practice starts 6 00 clamoring 6 00 ? 6 00 ? come 6 01 gone ! train 12 hours day every day . god takes sundays dont . aint got time . facility become world . step outside world gone . bitch simple rules gone . hey coach . ask wiseass question gone gone . next nine fridays ill handing one one . bus pass . take back wherever came . tomorrows friday . thats correct . tomorrow one gone . rooster yo check son . everybodys battling . yeah pie . twentytwo starving dogs enough go around . got mine . know know got . im serious . dont talk anybody dont look nobody . us double trouble . right double trouble . whats kid ? whats knock ? yo say man ? come man hes cool . yay herbcrusted shank steak white wine reduction sauce . bon apptit guys . got problem ? dont problem . whyd get sat ? listen man im dont ask dont tell . like fame bloods crips . put 22 lions cage someones bound get bit . im gonna drink . em rooms 11 00 make sure clean trays . havent even established dominance yet . start throwing punches ? try get hit . ill trading cigarettes protection . youre gonna drink alone . thats healthy . man television us bboys mostly known lot individual skills battling . need get together crew also overcome ego problem bboys . trying first one gone ? grab pair . dream team sweats ? laughs sick ! late flipz ? yo nice sweats ? baby gap ? thats cute . think take france ? flipz man got . look pockets titties . shit aint gonna get france . know whos going france ? im going france . clamoring blows whistle talking ? right everybody line shoulder shoulder ! said move ! first day . begin huh ? others throats . theres two ways tallest building world . one build giantass skyscraper . two tear skyscrapers . build team . quicker get heads better chance got making team . battle year chance stand top world . keep thinking small . youre trying prove youre better bboy next . hey coach aint got prove shit . know im better bboy standing next . still running mouth bro ? want try shut ? right thats ! thats enough ! two got problem ? knocks jealous rooster . said shut ! get back line ! get line ! got know ones best huh ? well lets clear decks find . splitting teams . need two captains . knock rooster surprise surprise . pick teams . double trouble . anis flipz . kilowatt thats thats ! lets go ! want see warmup . get little man ! lets go baby ! work work . coach ask question ? bboy smoke rooster ! idea making guys team battle ? isnt enough bad blood already ? trying figure kicking hornets nest . like guys dont feel pressure . wrong kind pressure . right kind make team . lets go ! lets go baby ! im show done . yeah thats right boy . man aint got nothing ! yeah get ! yeah put . yo grifter ? yo even turn . thats wack . one requote one dopest tell smell tell never felt coming help overwhelm move body back . bring whatever whatever weather never say never owned ! oh yeah ! whistle blowing yeah ! thats got kid ? especially rooster ! joke right ? look like im joking ? todays friday grifter somebodys got go hell coach . one yo . take damn pick . said breaking teams . didnt become part team ? yeah roasted coach . smoked iii . everything even understand concept team ? might cliche son team therell team . aint team crew ! obviously im better anyone ! yo coach ! yo ive taken shits bigger knock . sisqo wannabe . grifter smoked roasted . cold babe . coach fired warning shot . damn right . dont give man wants gone . congratulations grifter . youre best . heres bus pass . bad wasnt rooster . thank god wasnt . yeah word . lot kicks . oh yeah . sisters husbands cousins mistress runs advertising puma hooked us gear . gonna problem two ? catch franklyn . whats deal rooster knock ? theyre middle really heated twitter war right point ? theyre like shaq kobe . used real tight even ran crew together . youve seen . want man . got man . back dating chick . know goes . two guys fall love girl settle dance . tale old time . got new bags ? got bags ? get one yo ! yo listen . came dante man . know much cost ? arent cheap . know cant afford . got ps vita ! control back . yo got shaver . yo needed . rebel dont facial hair . hey ill trade camera . got everything . like christmas right seriously . sighs man television criterias judge choreography theme music crew synchronized . top four crews first rounds qualified second round blake real simple gentlemen . dont place among top four teams dont even get chance battle world championship . six weeks exhibition russia . us chance must become team . since weve reminded theres team word forbidden . hereafter strike vocabulary . whenever word comes one mouths entire team 100 pushups . grumble become dont stand chance . blows whistle right gentlemen listen . well begin nice easy . right sync drills . everybody clear ? five six seven eight ! feel guy next ? battle year able blindfolded . youre messing bro . shut man . ill smoke . keep talking im gonna bust ass . blows whistle hear ? know gentlemen . one two right lets go lets go ! time short ! keep formation tight right ! thats im talking . getting somewhere . right form lines . coach like come man . hold second . olympics sport . shit crazy . whats abbstarr ? coach disrespect bboying sport . art form . yeah thats right . right hey listen . thats right . art versus sport philosophical conversation . lets seat . lets talk . ever hear guy named magic johnson ? course yeah . played basketball sport . watching play like art poetry motion . lets form lets run . well night want ! thats im talking . blake keep going guys four ! arent supposed working routine ? running like chain gang ? wheres grifter ? hes gone . cut one best bboys ? actually best . let make sure page . mistaken idea take americas best bboys worlds ? youre mistaken . idea bring best team worlds . aint right ? im sponsoring team . stuck neck . ive calling dont call back got come see whats going youre running boys ground ! meanwhile youre mess . smell like youre sweating gin . vomit shoes ? shoes franklyns . thats cool . dont got time . got get team ready russian exhibition . get ass . hards working guys ? real hard . wb might crazy knows hes . hes bringing together . enemy enemy friend . get inside . franklyn feeling coach ? look like gazelle . gazelle arthritis . chuckles wanted ask choreographer thing . got russians five weeks . yeah uh get best . anything else franklyn ? yeah wanted thank . said could learn lot right . wise man . high school everything definitely like mad emotional . walk hallways like competitor thats guy youre competing right know mean ? dont slow ! youre slowing ! russias top 9 experience side . theyve team 10 years . battle year champions 2010 known artistry finesse showmanship . run dancing fellas becoming one right ? hes little brusque first youll get used . bboys catcalling settle . shes girl . indeed yeah . shes gonna help us win battle year ? shes gonna help us flip script battle year . shes coming . cant whisper anymore . nice meet . nice meet . franklyn tells youre dancer . look stacy im gonna honest . im afraid situation boys might bit exciting new chapter . well maybe need teach little bit focus discipline . trust need . lets meet boys . name stacy im gonna choreographer . teach whatever want . preferably floor ! good massages ? cause lot tension right upper thigh region . let explain something . im boys . hey like . thats cool . im cool . dont mind . im men . wont problem . thats cool . first thing tomorrow morning ? top clean five six seven eight . one two three four look guys clean clean ! stop stop . yall supposed bboys . come lets go ! kilowatt youre killing . stacy one two three four right hold hold ! everybody stop . hell knock groan ? come man ! whos stupid ? keep talking bitch ill beat ass . theres reason youre always shadow thats reason lauren left punk ass . get ass ! yeah thats right . half man . yo yo youre gonna stop ? hey hey ! thats enough ! get back ! either one still ? let get straight . used friends swapping blows girl glad gone doubt hooked fool . let crystal clear . history exactly . fighting ends ! yes coach . one even think fighting gone ! running time ! line lets run ! hold flix im photo ops black code name yaphet kotto ock twist like ratchet auto shop since granddaddy old desoto stopped got caddie gladly serving yall cats wanna act determined spit pesticides rats vermin seem like none yall chumps learning party people gather round brand new sound reach waist hit ground better duck awful sound goes boom thats whats happening parking lot boom thats whats happening stage man hand rule school reach teach blind find way z boast im load proud game reign remain heat feel fire come empire higher level depth one step beyond dope suckers scope hope cope nope cause could never let em top play em like game monopoly let speed around board like astro send jail trying pass go party people gather round brand new sound reach waist hit ground better duck awful sound goes boom thats whats happening parking lot boom thats whats happening stage yo whered get bboy name lil adonis ? thats mom . first time tried battle im 15 . mother see knows im like kids . im scared . im gay . yeah hes mamas boy . say want say one word mother good ? yeah good coach . lil adonis ? good coach . man cuts getting crazy . need let go ego . something wrong watch rebel ? uh coach good . important make rest us wait ? battle russias top crew less two weeks . wed rather say . said late ? wed really rather say . said late ? take shit . laugh franklyn getting harder pick huh ? god one guys moves . isnt moves anymore franklyn . like dudes getting along ? record books filled teams never got along championship teams . teams something else . players pushed greatness . tell intricate need see . okay right gentlemen tomorrows day weve waiting . russians disciplined synchronized precise . remember way win going team . get sleep . tomorrows big day . audience cheering emcee tonights battle features russias top 9 versus americas dream team ! lets go ! lets get em rebel ! come rebel . lets go kid ! god damn ! go go . chief chief go go . right lets go ! blake wheres team ? rooster get ! act like team ! wheres team ? get floor ! get floor ! audience cheering get em outside right ! oh shit . gonna talk ? got nothing say havent already said . cant believe coach didnt say word us whole way back . cause blew . yall blew . call dream team ? like dreamgirls . look serious ? yeah im serious ! anis tell em ! fault rooster . whatd say ? lost tonight man ! anything tried rescue everybody ! yo im ! ive heard tired shit years ! anything happens always somebody elses fault ! yo coming like ? cause feet hurt im tired fault man ! yo hell problem ? listen boy rooster . youre bad ! whole world frenchie ? two assholes ! ever since walked doors gave everything got team ! coach right team isnt going nowhere two dont get together right ! look around ! look guys ! got everything need win right ! youre goddamn ignorant see ! need check boy ! guys like rooster might get chances someone like shit man . im never gonna get another shot ever ! im taking even gotta punch face dog oldest friend ! want man anything life ! question hell two assholes want ? hiphop music playing independent sans label rooster ! haters gonna ruin turns music need talk . theres much talk already . turns music turns music gotta asshole ? want fight ? im tired shit ! im trying tell boy right . yeah know im ass . im much blame . know talented ? try move barn get shit . got practice practice ass come close ! ive always jealous . thats got . without dont even make team . yo going man ? want win ! want win . put aside old bullshit win . need us . laughs broke two months guys even hooked . acting crazy ? cause pisses ! want squash right . lets partners . play music man . hey give hug bro . give hug . come man . turns music coach ! yo coach ! wake man . youre late . 6 00 gotta train right . theres practice today . get man . get damn room ! arent going anywhere dont know shit son . come lets go . dont tell shit . telling coach . come coach please . come man . training room 10 minutes . want win need change think . sound familiar ? success choice . every true champion knows mental game key . greatest power . people never touch power . dont even know . go around old shit thinking old thoughts every damn day . people tell shit different day . truth thing permanent universe change . instead griping drills choose say giving drills team country every ounce . choose see champions . walk talk eat drink think like champions become unstoppable . become champions everything . right looking good . see progress . holy know youre tired fourth quarter gentlemen . deep breath . lets run . tomorrows friday . last man standing . cant think cutting last man . gotta think choosing final team . make easier ? hey coach . woman hey baby . right see ya . see ya . really stupid ? coach look rules simple . baby crying come . okay baby daddys . okay baby . mamas gonna back soon . shes beautiful . ever hear four ss ? swaddle side shimmy shush . okay baby . see swaddling soothes . tight tight . turn side like . shimmy back forth . gonna work . quieting howd ? boy colic baby . got boy ? ill right back . start talking . im gonna leave family back new york coach . last three months weve living credit cards . sneaking last three months ? every night sniffles cant kick coach . better ways handle . dont come much coach . got breaking . gotta take care family first . thats im trying coach . dont see ? team chance give aleena chances never . chances know actually something lives make battle year . team goes final 13 tomorrow . dont make top 13 send home . want fair shake coach . please dont buspass . dont late . burn goddamn hoodie . whats wrong hoodie ? vagrant chic . judgment day . gonna pick ? know man id send home . wrote name back . let see . ill go get . coach gotta know judgments biased . cant help feeling hearts talking louder head . guys worked hard . come far . im trusting judgment franklyn . know well . cant choose . take one . pick wrong guy ? exhales deeply okay . like cutting last man picking final team . youre right doesnt make easier . oh franklyn youve earned . thank coach . thank franklyn . yo bambino . know consolation toughest choice coach . well give call get france wont guys ? hey gentlemen ! lets huddle ! right listen . final presentation dante go back dorms get changed meet back hour . oh get passports together . looks like going france ! cheer dantes gate lets run intro one time . get first formation . make sure clean . looking great . hey wb somebody wants wish us farewell go france . look wb . wb whats poppin baby ? yo kamel ! man hey big fan since big . know youre like michael jordan bboys . hey meet friend . hey anis come look . honored man . yo whats good ? whats man ? yo lets show new move . n ow ? yeah come lets . hey yo coach check ! five six seven eight bboy rooster ! chattering come guys dont watch pack . guys ever since big always . rooster show . last three months guys able become brothers guys gotta say still . chuckle quietly matter fact shouldnt even position . oh real ? anis make sure call france yall win right ? tell bambino owes . hey guys act like champions champions . come say ! act like champions champions . right guys ill see yall later . later dude . peace bro . safe man . thanks coach . honor rooster . going battle year take . bringin back us ! got rhymes going round head ? dance little dj come whats name ? hey rollover dj youre spinning away time dream team baby . r hey cares play say whatever say cause dont mind france ! show time ! hey rollover dj youre spinning away time r hey cares play say whatever say cause dont mind r wow . thomas speaking french come blake . let introduce thomas hergenrother founder battle year . welcome battle year village . thank thomas . looking sharp brother . gift old friend . lets get inside . next days theres much . time really tight 20 crews coming world . right thomas . enjoy stay . thank much . yo guys peep germans . theres koreans . one thinks weve got shot top four . looking us like ? americans automatically assholes . damn dude whats ? youre best . go put stuff away see sights fun . sun shining sky aint cloud sight stopped raining everybodys play dont know beautiful new day hey hey team yeah ! r mr . blue sky please tell us hide away long long go wrong ? yo want fellas ! remember got curfew 10 00 . flipz knock got first set ? still need work transition blake got . dont ever stop thinking battle ? im sorry . okay look around . france worked ass get us . relax quit stressing . battle year . welcome big opening party battle year ! battle year already 22nd year . dont forget winning losing . whole world coming together celebrate hiphop culture . audience cheers yo mayhem . ima go bathroom . ill right back . right man . hes cute . hes cute . matter country youre religion lets celebrate around world song . us sam boy ! im gonna get drink . man spilled drink ! im sorry . dont care youre sorry right ? im sorry . im sorry . whoa whoa ! hes drunk . good right ? good right ? asshole came spilled drink . okay im gonna get another one . dont care get another one . sitting friends friends ? drinks everythings cool . fight fight ! lets go go ! telephone ringing yeah . right thomas . ill handle . blake one night ! give clowns one night throw back face . coach please let shut . cant believe shit . gave exactly expected ugly americans . come coach didnt even let explain happen said shut . youve learned nothing . youre exact guys walked door three months ago . started little dance party . like hit people ? want take swing ? wb thomas called . snipers disqualified . go home tomorrow . snipers gone im gone . dont test . yo snipers going im going . sorry coach thats right . goes go . start talking . local punks trying start shit . punked lil adonis . thats sniper stepped . months ago sniper couldnt even sit table adonis . couldnt even look hes fighting . say want coach man guys walked door first day . wanted team . well got one . gotta call thomas . talk thomas ? yes sir . youre staying . cheer listen . long night . get sleep . big day tomorrow . gentlemen hows feel team ? damn good coach . name artem korolev reporting live mtv russia battle year montpellier france . thousands hiphop fans entering arena right ready see worlds best bboy crews nearly every countrys represented tonight . reporter speaking italian speaking japanese hey guys boys rickie melvin . reporting live kiss radio kiss tv . montpellier france . speaking french sway thank china . right im inside battle year . atmosphere explosive ! ive waiting competition year long . got crews place . yeah thats right weve got france weve got germany weve got speaking italian speaking japanese israel weve got brazilians course favorites koreans . gonna absolutely amazing tonight . yeah theres something said homecourt advantage . right france ! speaking spanish crew everybodys going seoul assassins ! korean crew top mountain theyre unquestionably led fuel one legendary bboys world ! let us forget art form began . love dream team dante boy . want see win look theyve together 15 minutes . crews together 15 years . dont know got takes win thing . give france left bank crew yall ! give germany ! german boys came . lets welcome belgium ! boys came battle ! make noise ! make noise greece ! sway boys really strong really lean agile . lot buzz crew right . right witnessing amazing bboys absolutely everything win competition . sweating blood tears . korea favorites seoul assassins ! reporter speaking japanese lam witnessing performance fighting pride honour . fighting pride honour . show stopping man ! shutting crowd ! terrence ever seen anything like ? seoul assassins making statement ! man theyre monsters top mountain . everybody else fighting second place . dont want crew follow ! dream team wants win really gotta bring . guess liked . one tough act follow huh ? could stand tell gonna easy wont . fact odds audience stacked us . gentlemen none matters . situation place exactly team supposed . everything weve ever done lives every decision weve made every hour weve trained every drop sweat spilled led us stage exact moment . fate giving us chance greatness . chance go rip stage back world champions . make stage ! make audience ! time shine gentlemen . time shine . born moment gentlemen . thats right . one two three ! dream team ! land lady liberty dream team ! crowd booing whats going ? sway overt hating . knew incident last night gonna ugly dont think anybody could imagined . nah nah dont friends . yo battle year . respect man . show love . aint gonna stop man . hard roll got much harder . lets shit . amid blizzard boos dream teams new captain knock kicks routine . crowd continues booing man pa journey sound . one two . one two three four . electroswing music playing terrence theme routine vital . story theyre telling us via beat ? audience see story ! 19705 funk music playing theyre going step step spin spin . joke sway . talking harmony continuity synchronicity ! man pa . 1970s new york graffiti rapping breaking became prime expressions new young peoples subculture called hiphop . classic hiphop music playing sway look dream team . never seen . theyre perfect sync . theyre starting win ! cant believe ! crowd cheering bboy pa im africanamerican . im cubanamerican . im israeliamerican . im germanamerican . im frenchamerican . im japaneseamerican . im irishamerican . im russianamerican . im iranianamerican . im italianamerican . cant see yet theyre moving unison ! man pa journey sound . last 15 years people said us bboys selfish cocky got teamwork skills . man ho . watching dawning new day ! dream destroyed ! big ups american boys . dont know judges gonna put final four deserve go final four . speaking french rickie worlds greatest bboys competing bragging rights national pride battle year championship . speaking spanish hey scores ! got final four hot hands . check check . okay battle year number one seed korea ! seoul assassins ! second seed france ! number three seed germany ! okay last least us ! dante toast judges whose jaws hit ground saw guys perform today . good job fellas . thats right . oh god . applauding wheres baby ? meet jolene . nice meet . welcome france . whered get ticket ? consider honeymoon . speaking french terrence americans germans made final four . left bank versus dream right battle reigning champion . sway dont break scoring system viewers home ? five judges representing various countries tonight . judge scores scale one 10 means perfect score 50 . wow left bank looking desperate . dream team wins . theyre going final battle . speaking german americans really . compete finals highly favored koreans . speaking spanish american crew left stage words . sway first time 15 years americans chance bring home bboy world championship back american soil began . everyone looking nervous right ? got asked right ? us koreans ? entire world looking us ask thats supposed . mean created whole bboy thing ? mean generation may kicked whole thing torch hands . really one thing left . bring crown home belongs . yes sir . yes sir ! thats im talking . knock door two minutes dream team . breathe gentlemen . much left say . theyre expecting ugly americans . lets show em really . act like champions . lets go . ladies gentlemen . moment youve waiting ! got korea please give seoul assassins ! us dream team ! one two three ! let battle begin ! lets go ! battle year . kid rebel know bring pain . come boys ! korea counters monster combo . absolutely incredible . see koreans considered unbeatable . man doesnt even seem humanly possible . seoul assassins killing . okay flawless synchronization . sick moves ! guys fear . battle world supremacy . oh god theyre ripping floorboards ! dream teams battling minds crowd loving . fuel calls knock ! fuel calling best best . fuel unleashes series lethal moves ! youre watching worldclass athlete top game . kind power move mindboggling . yeah knock ! knock answers onehanded rollbacks ! back forth sway . theyre going blow blow right . tj first time assassins seem heels ! theyre giving everything time winding . oh baby us strikes yes ! devastating move ! korea strikes back aerial assault ! electric incredible fantastic ! right pound pound best battle ive ever seen life ! speaking spanish given absolutely everything stage . heart souls stage . crowd chanting usa ! bring home crown battle year world champion ? cant believe saw ! really cant tell winner man . gonna close . dont know dont know . yo man judges scores ! seoul assassins one point . terrence koreans win ! one point . one goddamn point . well gentlemen . want know something . dont give damn scoreboard says color medal give . come coach dont sugarcoat us . didnt accomplish came . wouldnt sniper . look fellas life ive consider fortunate man . dont know things kind went way . changed two years ago . lost wife 15yearold boy car wreck . lost family lost way . dont know well quit living . youve heard say million times change think change life . fact youve changed way think . youve changed life . first day training one goal teach crew team . became much . became family . something thought id lost forever . win lose gentlemen got family nothing else matters . wasnt supposed end like coach . ending knock . coming back next year coach ? work come second ? second sucks . laugh damn right . come lets huddle one time . one two three ! dream team ! korean national anthem playing rooster watch whole thing ? yeah roos right . hey guys needed . asshole always asshole . im saying . guy man . second place theres nothing wrong . second place . guys tell think second . second sucks . laughs sure . still wish could though man much time got left crutches ? six weeks ill ready rest us though since got three months prepare start rehearsals monday . come coach . got back . good idea coach . got back coach . rules simple . practice starts 6 00 come 6 01 clamoring cant live anymore like heart opened door watch fly spread wings dont ask cause many things . friend friend woke friend cant live anymore like heart opened door watch fly spread wings dont ask cause many things standing edge looking like go used man today woke friend audience cheering \n"
     ]
    }
   ],
   "source": [
    "print(df['text'][0])"
   ]
  },
  {
   "cell_type": "code",
   "execution_count": 186,
   "metadata": {},
   "outputs": [
    {
     "name": "stdout",
     "output_type": "stream",
     "text": [
      "Current cuda device  3\n",
      "GeForce RTX 3090\n",
      "Memory Usage:\n",
      "Allocated: 0.0 GB\n",
      "Cached:    0.0 GB\n"
     ]
    }
   ],
   "source": [
    "\n",
    "# GPU 할당 변경하기\n",
    "GPU_NUM = 3 # 원하는 GPU 번호 입력\n",
    "device = torch.device(f'cuda:{GPU_NUM}')\n",
    "torch.cuda.set_device(device) # change allocation of current GPU\n",
    "print ('Current cuda device ', torch.cuda.current_device()) # check\n",
    "\n",
    "# Additional Infos\n",
    "if device.type == 'cuda':\n",
    "    print(torch.cuda.get_device_name(GPU_NUM))\n",
    "    print('Memory Usage:')\n",
    "    print('Allocated:', round(torch.cuda.memory_allocated(GPU_NUM)/1024**3,1), 'GB')\n",
    "    print('Cached:   ', round(torch.cuda.memory_cached(GPU_NUM)/1024**3,1), 'GB')"
   ]
  },
  {
   "cell_type": "code",
   "execution_count": 153,
   "metadata": {},
   "outputs": [
    {
     "name": "stderr",
     "output_type": "stream",
     "text": [
      "/home/common/miniconda3/envs/seungjun/lib/python3.7/site-packages/torchtext-0.10.1-py3.7-linux-x86_64.egg/torchtext/data/utils.py:123: UserWarning: Spacy model \"en\" could not be loaded, trying \"en_core_web_sm\" instead\n",
      "  warnings.warn(f'Spacy model \"{language}\" could not be loaded, trying \"{OLD_MODEL_SHORTCUTS[language]}\" instead')\n"
     ]
    },
    {
     "name": "stdout",
     "output_type": "stream",
     "text": [
      "Number of training examples: 365\n",
      "Unique tokens in TEXT vocabulary: 61041\n",
      "Unique tokens in LABEL vocabulary: 3\n"
     ]
    }
   ],
   "source": [
    "TEXT = data.Field(sequential=True, use_vocab = True, tokenize='spacy', lower=True, include_lengths=True)\n",
    "LABEL = data.LabelField(dtype=torch.float)\n",
    "\n",
    "datafields = [('text', TEXT), ('label', LABEL)]\n",
    "\n",
    "result_data=[]\n",
    "for idx in range(len(df)):\n",
    "    result_data.append(data.Example.fromlist([df['text'][idx],df['rate'][idx]], datafields))\n",
    "\n",
    "train_data = data.Dataset(result_data, datafields)\n",
    "\n",
    "TEXT.build_vocab(train_data, max_size=100000, vectors=\"glove.6B.100d\")\n",
    "LABEL.build_vocab(train_data)\n",
    "\n",
    "print(f'Number of training examples: {len(train_data)}')\n",
    "\n",
    "print(f\"Unique tokens in TEXT vocabulary: {len(TEXT.vocab)}\")\n",
    "print(f\"Unique tokens in LABEL vocabulary: {len(LABEL.vocab)}\")\n"
   ]
  },
  {
   "cell_type": "code",
   "execution_count": 187,
   "metadata": {},
   "outputs": [
    {
     "name": "stdout",
     "output_type": "stream",
     "text": [
      "cuda:3\n"
     ]
    }
   ],
   "source": [
    "train_iterator = data.BucketIterator(train_data,batch_size=50,device='cuda:3',repeat=False)\n",
    "print(device)\n"
   ]
  },
  {
   "cell_type": "code",
   "execution_count": 116,
   "metadata": {},
   "outputs": [
    {
     "name": "stdout",
     "output_type": "stream",
     "text": [
      "tensor(1., device='cuda:2')\n"
     ]
    }
   ],
   "source": [
    "for batch in train_loader:\n",
    "    break\n",
    "print(batch.label[0])"
   ]
  },
  {
   "cell_type": "code",
   "execution_count": 117,
   "metadata": {},
   "outputs": [
    {
     "name": "stdout",
     "output_type": "stream",
     "text": [
      "3\n",
      "0\n"
     ]
    }
   ],
   "source": [
    "label_to_ix = {'negative': 0, 'neutral': 1, 'positive': 2}\n",
    "print(len(label_to_ix))\n",
    "print(label_to_ix['negative'])"
   ]
  },
  {
   "cell_type": "code",
   "execution_count": 87,
   "metadata": {},
   "outputs": [],
   "source": []
  },
  {
   "cell_type": "code",
   "execution_count": 188,
   "metadata": {},
   "outputs": [],
   "source": [
    "N = 5 # Max number of jumps allowed\n",
    "K = 40 # Max jump size\n",
    "R = 20 # Number of tokens read between every two jumps\n",
    "\n",
    "def reward_function(prob, true_label):\n",
    "  \"\"\"\n",
    "  Returns 1 if correct prediction, -1 otherwise\n",
    "  \"\"\"\n",
    "  # print(\"true_label\", \"prob\", true_label, prob)\n",
    "  if prob>0.5 and true_label>0.5:\n",
    "    return torch.tensor(1.0, requires_grad=True)\n",
    "  if prob<0.5 and true_label<0.5:\n",
    "    return torch.tensor(1.0, requires_grad=True)\n",
    "  return torch.tensor(-1.0, requires_grad=True)\n",
    "\n",
    "class SkipReadingModel(nn.Module):\n",
    "    def __init__(self, input_dim, embedding_dim, hidden_dim, output_dim, gamma=0.99, train_mode=True):\n",
    "        super().__init__()\n",
    "        \n",
    "        # store dimensions and constants\n",
    "        self.input_dim = input_dim\n",
    "        self.embedding_dim = embedding_dim\n",
    "        self.hidden_dim = hidden_dim\n",
    "        self.output_dim = output_dim\n",
    "        self.gamma = gamma\n",
    "        self.train_mode = True\n",
    "        \n",
    "        # create layers\n",
    "        self.embedding = nn.Embedding(input_dim, embedding_dim)\n",
    "        self.lstm_cell = nn.LSTMCell(input_size = embedding_dim, hidden_size = hidden_dim, bias = True)\n",
    "        self.jumping_linear = nn.Linear(hidden_dim, K+1)\n",
    "        self.output_linear = nn.Linear(hidden_dim, output_dim)\n",
    "\n",
    "        # Baseline weight        \n",
    "        self.wb = nn.Parameter(data=torch.zeros(self.hidden_dim), requires_grad=True)\n",
    "        self.cb = nn.Parameter(data=torch.tensor((0.0)), requires_grad=True)\n",
    "        # Initialize lstm_cell states\n",
    "        self.initialize_lstm_cell_states()\n",
    "        \n",
    "        # Initalize episode number and time number\n",
    "        self.initialize_for_new_batch()\n",
    "        self.initialize_time_number()\n",
    "        \n",
    "        # Overall reward and loss history\n",
    "        self.reward_history = []\n",
    "        self.loss_history = []\n",
    "        self.training_accuracies = []\n",
    "        self.validation_accuracies = []\n",
    "        # torch.tensor((0.0), requires_grad=True) \n",
    "    \n",
    "    def initialize_lstm_cell_states(self):\n",
    "        self.c = torch.zeros(1, self.hidden_dim, requires_grad=True)\n",
    "        self.h = torch.zeros(1, self.hidden_dim, requires_grad=True)\n",
    "            \n",
    "    def initialize_episode_number(self):\n",
    "        self.ep = 0\n",
    "    \n",
    "    def initialize_time_number(self):\n",
    "        self.t = 0\n",
    "    \n",
    "    def clear_batch_lists(self):\n",
    "        del self.saved_log_probs[:]\n",
    "        del self.reward_baselines[:]\n",
    "        del self.rewards[:]\n",
    "        del self.label_targets[:]\n",
    "        del self.label_predictions[:]\n",
    "        self.initialize_episode_number()\n",
    "        self.training_accuracy = 0.0\n",
    "    \n",
    "    def initialize_for_new_batch(self):\n",
    "        \"\"\"\n",
    "        Cleans history of log probabilities, rewards, targets etc for the last\n",
    "        batch\n",
    "        \"\"\"\n",
    "        self.initialize_episode_number()\n",
    "        \n",
    "        # Episode policy and reward history \n",
    "        self.saved_log_probs = [] # log probabilities for each time step t in each episode in batch\n",
    "        self.rewards = [] # reward at final time step of each episode in batch\n",
    "        self.reward_baselines = [] # reward baselines for each time step t in each episode in batch\n",
    "\n",
    "        # Predictions and targets history (for cross entropy loss calculation)\n",
    "        self.label_predictions = [] # 1 probability for each episode\n",
    "        self.label_targets = []# 1 label for each episode\n",
    "        self.training_accuracy = 0.0\n",
    "\n",
    "        \n",
    "    def classify(self):\n",
    "        out = self.output_linear(self.c[0])\n",
    "        self.label_predictions.append(out)\n",
    "        if self.train_mode:\n",
    "          self.rewards.append(reward_function(torch.sigmoid(out), self.label_targets[-1]))\n",
    "        # return torch.sigmoid(out)\n",
    "       \n",
    "    def get_baseline(self):\n",
    "        return torch.dot(self.wb, self.c[0].detach()) + self.cb\n",
    "    \n",
    "    def save_training_accuracy(self):\n",
    "      correct = 0\n",
    "      for _r in self.rewards:\n",
    "        if _r > 0:\n",
    "          correct += 1\n",
    "      self.training_accuracy = correct/len(self.rewards)\n",
    "      self.training_accuracies.append(self.training_accuracy)\n",
    "      \n",
    "    \n",
    "    def forward(self, pack):\n",
    "        texts, lengths, labels = pack\n",
    "        embeddeds = self.embedding(texts)\n",
    "        # embeddeds = nn.utils.rnn.pack_padded_sequence(embeddeds, lengths)\n",
    "        self.initialize_for_new_batch()\n",
    "\n",
    "        for episode_number in range(embeddeds.shape[1]):\n",
    "            \n",
    "            # load episode data\n",
    "            self.ep = episode_number\n",
    "            embedded = embeddeds[:, self.ep, :]\n",
    "      \n",
    "            #print(texts.shape, embeddeds.shape, embedded.shape)\n",
    "            #print(label)\n",
    "            \n",
    "            # initialize counters and index\n",
    "            tokens_read = 0\n",
    "            jumps_made = 0\n",
    "            word_index = 0\n",
    "            words_len = embedded.shape[0]\n",
    "            self.initialize_lstm_cell_states()\n",
    "            self.initialize_time_number()\n",
    "            self.saved_log_probs.append([])\n",
    "            self.reward_baselines.append([])\n",
    "            \n",
    "            if self.train_mode:\n",
    "              label = labels[self.ep].reshape(1)\n",
    "              self.label_targets.append(label)\n",
    "            \n",
    "            # start iterating through sequence, while skipping some words\n",
    "            while word_index<words_len and word_index<600:\n",
    "              self.t += 1\n",
    "              embedded_word = embedded[word_index]\n",
    "              #print(\"embedded_word\", embedded_word.shape)\n",
    "              \n",
    "              # generate next lstm cell state\n",
    "              self.h, self.c = self.lstm_cell(torch.reshape(embedded_word, (1, -1)), (self.h, self.c))\n",
    "              # print('word_index', word_index, 'tokens_read', tokens_read, 'jumps_made', jumps_made)\n",
    "              \n",
    "              # if time to jump words\n",
    "              if tokens_read % R==0:\n",
    "                \n",
    "                probs = self.jumping_linear(self.c[0])\n",
    "                probs = F.softmax(probs)\n",
    "                categ = Categorical(probs)\n",
    "                k = categ.sample()\n",
    "                \n",
    "                # Add log probability of our chosen action to our history\n",
    "                self.saved_log_probs[-1].append(categ.log_prob(k))\n",
    "                self.reward_baselines[-1].append(self.get_baseline())\n",
    "                \n",
    "                # classify and move to next episode\n",
    "                if k==0:\n",
    "                    self.classify()\n",
    "                    break\n",
    "                \n",
    "                # increment counters\n",
    "                jumps_made += 1\n",
    "                word_index+=k\n",
    "              # if not time to jump, then continue to next word\n",
    "              else:\n",
    "                word_index+=1\n",
    "              \n",
    "              # increment words read so far counter\n",
    "              tokens_read += 1\n",
    "              \n",
    "              # if max amounts of jump made already, \n",
    "              # then classify and move to next episode\n",
    "              if jumps_made == N:\n",
    "                self.classify()\n",
    "                break\n",
    "            else:\n",
    "              # print(\"Finished while loop\")\n",
    "              # raise ValueError('Finshed ')\n",
    "              self.classify()\n",
    "        if self.train_mode:\n",
    "            self.save_training_accuracy()\n",
    "        return self.label_predictions"
   ]
  },
  {
   "cell_type": "code",
   "execution_count": 189,
   "metadata": {},
   "outputs": [
    {
     "name": "stdout",
     "output_type": "stream",
     "text": [
      "61041\n",
      "cuda:3\n",
      "SkipReadingModel(\n",
      "  (embedding): Embedding(61041, 100)\n",
      "  (lstm_cell): LSTMCell(100, 128)\n",
      "  (jumping_linear): Linear(in_features=128, out_features=41, bias=True)\n",
      "  (output_linear): Linear(in_features=128, out_features=3, bias=True)\n",
      ")\n",
      "cuda:3\n"
     ]
    }
   ],
   "source": [
    "INPUT_DIM = len(TEXT.vocab)\n",
    "EMBEDDING_DIM = 100\n",
    "HIDDEN_DIM = 128\n",
    "OUTPUT_DIM = 3\n",
    "seed = 7\n",
    "torch.manual_seed(seed)\n",
    "torch.backends.cudnn.deterministic = True\n",
    "torch.backends.cudnn.benchmark = False\n",
    "np.random.seed(seed)\n",
    "print(INPUT_DIM)\n",
    "print(device)\n",
    "bce = nn.BCEWithLogitsLoss(reduction='mean')\n",
    "policy_model = SkipReadingModel(INPUT_DIM, EMBEDDING_DIM, HIDDEN_DIM, OUTPUT_DIM).to('cuda:3')\n",
    "print(policy_model)\n",
    "pretrained_embeddings = TEXT.vocab.vectors\n",
    "policy_model.embedding.weight.data.copy_(pretrained_embeddings)\n",
    "if os.path.exists('jump_model.weights'):\n",
    "  policy_model.load_state_dict(torch.load('jump_model.weights'))\n",
    "  print(\"yes\")\n",
    "print(device)\n",
    "# define the optimiser\n",
    "optimizer = optim.Adam(policy_model.parameters(), lr=0.001)"
   ]
  },
  {
   "cell_type": "code",
   "execution_count": 180,
   "metadata": {},
   "outputs": [],
   "source": [
    "# import torch\n",
    "# def update_policy():\n",
    "   \n",
    "#     #print(len(policy_model.rewards), len(policy_model.label_predictions), len(policy_model.label_targets))\n",
    "#     #print(len(policy_model.saved_log_probs), len(policy_model.reward_baselines))\n",
    "    \n",
    "#     J1 = bce(\n",
    "#         torch.cat(policy_model.label_predictions),\n",
    "#         torch.cat(policy_model.label_targets)\n",
    "#     )\n",
    "#     J2 = torch.tensor(0.0, device=device, requires_grad=True)\n",
    "#     J3 = torch.tensor(0.0, device=device, requires_grad=True)\n",
    "    \n",
    "#     for R, lps, rbs in zip(policy_model.rewards, policy_model.saved_log_probs, policy_model.reward_baselines):\n",
    "#         for log_prob, baseline in zip(lps, rbs):\n",
    "#           weighted_log_prob = (-log_prob * (R - baseline.item()))\n",
    "#           _baseline_loss = torch.pow(R - baseline, 2)\n",
    "#           J2 = J2 + weighted_log_prob\n",
    "#           J3 = J3 + _baseline_loss\n",
    "    \n",
    "#     optimizer.zero_grad()\n",
    "#     policy_loss =  J1 +  (J2/len(policy_model.rewards)) + J3\n",
    "#     # print('policy_loss', policy_loss)\n",
    "#     policy_loss.backward(retain_graph=True)\n",
    "#     optimizer.step()\n",
    "    \n",
    "#     policy_model.clear_batch_lists()"
   ]
  },
  {
   "cell_type": "code",
   "execution_count": 163,
   "metadata": {},
   "outputs": [],
   "source": [
    "# def test_model():\n",
    "#   policy_model.train_mode = True\n",
    "#   correct = 0\n",
    "#   total=0\n",
    "#   for _data in test_iterator:\n",
    "#     # get the inputs\n",
    "#     texts, text_lengths, labels = _data.text[0], _data.text[1], _data.label\n",
    "#     # print(\"Input review texts, text_lengths, labels\", texts.shape, text_lengths.shape, labels.shape)\n",
    "#     predictions = policy_model((texts.to(device), text_lengths.to(device), labels.to(device)))\n",
    "#     for (prediction, label) in zip(predictions, labels):\n",
    "#       if reward_function(label, prediction) > 0:\n",
    "#         correct += 1\n",
    "#       total += 1\n",
    "#     if total%1000 == 0:\n",
    "#       print(total)\n",
    "#     if total%5000 == 0:\n",
    "#       break\n",
    "#   print(\"Test accuracy :\", correct/total)\n",
    "#   policy_model.train_mode = True\n",
    "#   return correct/total\n",
    "\n",
    "# def validate_model():\n",
    "#   policy_model.train_mode = True\n",
    "#   correct = 0\n",
    "#   total=0\n",
    "#   for _data in valid_iterator:\n",
    "#     # get the inputs\n",
    "#     texts, text_lengths, labels = _data.text[0], _data.text[1], _data.label\n",
    "#     # print(\"Input review texts, text_lengths, labels\", texts.shape, text_lengths.shape, labels.shape)\n",
    "#     predictions = policy_model((texts.to(device), text_lengths.to(device), labels.to(device)))\n",
    "#     for (prediction, label) in zip(predictions, labels):\n",
    "#       if reward_function(label, prediction) > 0:\n",
    "#         correct += 1\n",
    "#       total += 1\n",
    "#     if total%1000 == 0:\n",
    "#       break\n",
    "#   print(\"Validation accuracy :\", correct/total)\n",
    "#   policy_model.train_mode = True\n",
    "#   policy_model.validation_accuracies.append(correct/total)\n",
    "#   return correct/total\n"
   ]
  },
  {
   "cell_type": "code",
   "execution_count": 196,
   "metadata": {},
   "outputs": [
    {
     "name": "stdout",
     "output_type": "stream",
     "text": [
      "Input review texts, text_lengths, labels torch.Size([16989, 50]) torch.Size([50]) torch.Size([50])\n",
      "cuda:3\n"
     ]
    },
    {
     "ename": "RuntimeError",
     "evalue": "Expected all tensors to be on the same device, but found at least two devices, cuda:3 and cuda:2! (when checking arugment for argument index in method wrapper_index_select)",
     "output_type": "error",
     "traceback": [
      "\u001b[0;31m---------------------------------------------------------------------------\u001b[0m",
      "\u001b[0;31mRuntimeError\u001b[0m                              Traceback (most recent call last)",
      "\u001b[0;32m/tmp/ipykernel_50401/3730937934.py\u001b[0m in \u001b[0;36m<module>\u001b[0;34m\u001b[0m\n\u001b[1;32m     11\u001b[0m           \u001b[0mprint\u001b[0m\u001b[0;34m(\u001b[0m\u001b[0;34m\"Input review texts, text_lengths, labels\"\u001b[0m\u001b[0;34m,\u001b[0m \u001b[0mtexts\u001b[0m\u001b[0;34m.\u001b[0m\u001b[0mshape\u001b[0m\u001b[0;34m,\u001b[0m \u001b[0mtext_lengths\u001b[0m\u001b[0;34m.\u001b[0m\u001b[0mshape\u001b[0m\u001b[0;34m,\u001b[0m \u001b[0mlabels\u001b[0m\u001b[0;34m.\u001b[0m\u001b[0mshape\u001b[0m\u001b[0;34m)\u001b[0m\u001b[0;34m\u001b[0m\u001b[0;34m\u001b[0m\u001b[0m\n\u001b[1;32m     12\u001b[0m           \u001b[0mprint\u001b[0m\u001b[0;34m(\u001b[0m\u001b[0mdevice\u001b[0m\u001b[0;34m)\u001b[0m\u001b[0;34m\u001b[0m\u001b[0;34m\u001b[0m\u001b[0m\n\u001b[0;32m---> 13\u001b[0;31m           \u001b[0mprediction\u001b[0m \u001b[0;34m=\u001b[0m \u001b[0mpolicy_model\u001b[0m\u001b[0;34m(\u001b[0m\u001b[0;34m(\u001b[0m\u001b[0mtexts\u001b[0m\u001b[0;34m.\u001b[0m\u001b[0mto\u001b[0m\u001b[0;34m(\u001b[0m\u001b[0;34m'cuda:2'\u001b[0m\u001b[0;34m)\u001b[0m\u001b[0;34m,\u001b[0m \u001b[0mtext_lengths\u001b[0m\u001b[0;34m.\u001b[0m\u001b[0mto\u001b[0m\u001b[0;34m(\u001b[0m\u001b[0;34m'cuda:3'\u001b[0m\u001b[0;34m)\u001b[0m\u001b[0;34m,\u001b[0m \u001b[0mlabels\u001b[0m\u001b[0;34m.\u001b[0m\u001b[0mto\u001b[0m\u001b[0;34m(\u001b[0m\u001b[0;34m'cuda:3'\u001b[0m\u001b[0;34m)\u001b[0m\u001b[0;34m)\u001b[0m\u001b[0;34m)\u001b[0m\u001b[0;34m\u001b[0m\u001b[0;34m\u001b[0m\u001b[0m\n\u001b[0m\u001b[1;32m     14\u001b[0m           \u001b[0;31m# print(\"Prediction\", prediction.item())\u001b[0m\u001b[0;34m\u001b[0m\u001b[0;34m\u001b[0m\u001b[0;34m\u001b[0m\u001b[0m\n\u001b[1;32m     15\u001b[0m           \u001b[0;31m# raise ValueError('Not done')\u001b[0m\u001b[0;34m\u001b[0m\u001b[0;34m\u001b[0m\u001b[0;34m\u001b[0m\u001b[0m\n",
      "\u001b[0;32m/home/common/miniconda3/envs/seungjun/lib/python3.7/site-packages/torch/nn/modules/module.py\u001b[0m in \u001b[0;36m_call_impl\u001b[0;34m(self, *input, **kwargs)\u001b[0m\n\u001b[1;32m   1049\u001b[0m         if not (self._backward_hooks or self._forward_hooks or self._forward_pre_hooks or _global_backward_hooks\n\u001b[1;32m   1050\u001b[0m                 or _global_forward_hooks or _global_forward_pre_hooks):\n\u001b[0;32m-> 1051\u001b[0;31m             \u001b[0;32mreturn\u001b[0m \u001b[0mforward_call\u001b[0m\u001b[0;34m(\u001b[0m\u001b[0;34m*\u001b[0m\u001b[0minput\u001b[0m\u001b[0;34m,\u001b[0m \u001b[0;34m**\u001b[0m\u001b[0mkwargs\u001b[0m\u001b[0;34m)\u001b[0m\u001b[0;34m\u001b[0m\u001b[0;34m\u001b[0m\u001b[0m\n\u001b[0m\u001b[1;32m   1052\u001b[0m         \u001b[0;31m# Do not call functions when jit is used\u001b[0m\u001b[0;34m\u001b[0m\u001b[0;34m\u001b[0m\u001b[0;34m\u001b[0m\u001b[0m\n\u001b[1;32m   1053\u001b[0m         \u001b[0mfull_backward_hooks\u001b[0m\u001b[0;34m,\u001b[0m \u001b[0mnon_full_backward_hooks\u001b[0m \u001b[0;34m=\u001b[0m \u001b[0;34m[\u001b[0m\u001b[0;34m]\u001b[0m\u001b[0;34m,\u001b[0m \u001b[0;34m[\u001b[0m\u001b[0;34m]\u001b[0m\u001b[0;34m\u001b[0m\u001b[0;34m\u001b[0m\u001b[0m\n",
      "\u001b[0;32m/tmp/ipykernel_50401/1034426436.py\u001b[0m in \u001b[0;36mforward\u001b[0;34m(self, pack)\u001b[0m\n\u001b[1;32m    107\u001b[0m     \u001b[0;32mdef\u001b[0m \u001b[0mforward\u001b[0m\u001b[0;34m(\u001b[0m\u001b[0mself\u001b[0m\u001b[0;34m,\u001b[0m \u001b[0mpack\u001b[0m\u001b[0;34m)\u001b[0m\u001b[0;34m:\u001b[0m\u001b[0;34m\u001b[0m\u001b[0;34m\u001b[0m\u001b[0m\n\u001b[1;32m    108\u001b[0m         \u001b[0mtexts\u001b[0m\u001b[0;34m,\u001b[0m \u001b[0mlengths\u001b[0m\u001b[0;34m,\u001b[0m \u001b[0mlabels\u001b[0m \u001b[0;34m=\u001b[0m \u001b[0mpack\u001b[0m\u001b[0;34m\u001b[0m\u001b[0;34m\u001b[0m\u001b[0m\n\u001b[0;32m--> 109\u001b[0;31m         \u001b[0membeddeds\u001b[0m \u001b[0;34m=\u001b[0m \u001b[0mself\u001b[0m\u001b[0;34m.\u001b[0m\u001b[0membedding\u001b[0m\u001b[0;34m(\u001b[0m\u001b[0mtexts\u001b[0m\u001b[0;34m)\u001b[0m\u001b[0;34m\u001b[0m\u001b[0;34m\u001b[0m\u001b[0m\n\u001b[0m\u001b[1;32m    110\u001b[0m         \u001b[0;31m# embeddeds = nn.utils.rnn.pack_padded_sequence(embeddeds, lengths)\u001b[0m\u001b[0;34m\u001b[0m\u001b[0;34m\u001b[0m\u001b[0;34m\u001b[0m\u001b[0m\n\u001b[1;32m    111\u001b[0m         \u001b[0mself\u001b[0m\u001b[0;34m.\u001b[0m\u001b[0minitialize_for_new_batch\u001b[0m\u001b[0;34m(\u001b[0m\u001b[0;34m)\u001b[0m\u001b[0;34m\u001b[0m\u001b[0;34m\u001b[0m\u001b[0m\n",
      "\u001b[0;32m/home/common/miniconda3/envs/seungjun/lib/python3.7/site-packages/torch/nn/modules/module.py\u001b[0m in \u001b[0;36m_call_impl\u001b[0;34m(self, *input, **kwargs)\u001b[0m\n\u001b[1;32m   1049\u001b[0m         if not (self._backward_hooks or self._forward_hooks or self._forward_pre_hooks or _global_backward_hooks\n\u001b[1;32m   1050\u001b[0m                 or _global_forward_hooks or _global_forward_pre_hooks):\n\u001b[0;32m-> 1051\u001b[0;31m             \u001b[0;32mreturn\u001b[0m \u001b[0mforward_call\u001b[0m\u001b[0;34m(\u001b[0m\u001b[0;34m*\u001b[0m\u001b[0minput\u001b[0m\u001b[0;34m,\u001b[0m \u001b[0;34m**\u001b[0m\u001b[0mkwargs\u001b[0m\u001b[0;34m)\u001b[0m\u001b[0;34m\u001b[0m\u001b[0;34m\u001b[0m\u001b[0m\n\u001b[0m\u001b[1;32m   1052\u001b[0m         \u001b[0;31m# Do not call functions when jit is used\u001b[0m\u001b[0;34m\u001b[0m\u001b[0;34m\u001b[0m\u001b[0;34m\u001b[0m\u001b[0m\n\u001b[1;32m   1053\u001b[0m         \u001b[0mfull_backward_hooks\u001b[0m\u001b[0;34m,\u001b[0m \u001b[0mnon_full_backward_hooks\u001b[0m \u001b[0;34m=\u001b[0m \u001b[0;34m[\u001b[0m\u001b[0;34m]\u001b[0m\u001b[0;34m,\u001b[0m \u001b[0;34m[\u001b[0m\u001b[0;34m]\u001b[0m\u001b[0;34m\u001b[0m\u001b[0;34m\u001b[0m\u001b[0m\n",
      "\u001b[0;32m/home/common/miniconda3/envs/seungjun/lib/python3.7/site-packages/torch/nn/modules/sparse.py\u001b[0m in \u001b[0;36mforward\u001b[0;34m(self, input)\u001b[0m\n\u001b[1;32m    158\u001b[0m         return F.embedding(\n\u001b[1;32m    159\u001b[0m             \u001b[0minput\u001b[0m\u001b[0;34m,\u001b[0m \u001b[0mself\u001b[0m\u001b[0;34m.\u001b[0m\u001b[0mweight\u001b[0m\u001b[0;34m,\u001b[0m \u001b[0mself\u001b[0m\u001b[0;34m.\u001b[0m\u001b[0mpadding_idx\u001b[0m\u001b[0;34m,\u001b[0m \u001b[0mself\u001b[0m\u001b[0;34m.\u001b[0m\u001b[0mmax_norm\u001b[0m\u001b[0;34m,\u001b[0m\u001b[0;34m\u001b[0m\u001b[0;34m\u001b[0m\u001b[0m\n\u001b[0;32m--> 160\u001b[0;31m             self.norm_type, self.scale_grad_by_freq, self.sparse)\n\u001b[0m\u001b[1;32m    161\u001b[0m \u001b[0;34m\u001b[0m\u001b[0m\n\u001b[1;32m    162\u001b[0m     \u001b[0;32mdef\u001b[0m \u001b[0mextra_repr\u001b[0m\u001b[0;34m(\u001b[0m\u001b[0mself\u001b[0m\u001b[0;34m)\u001b[0m \u001b[0;34m->\u001b[0m \u001b[0mstr\u001b[0m\u001b[0;34m:\u001b[0m\u001b[0;34m\u001b[0m\u001b[0;34m\u001b[0m\u001b[0m\n",
      "\u001b[0;32m/home/common/miniconda3/envs/seungjun/lib/python3.7/site-packages/torch/nn/functional.py\u001b[0m in \u001b[0;36membedding\u001b[0;34m(input, weight, padding_idx, max_norm, norm_type, scale_grad_by_freq, sparse)\u001b[0m\n\u001b[1;32m   2041\u001b[0m         \u001b[0;31m# remove once script supports set_grad_enabled\u001b[0m\u001b[0;34m\u001b[0m\u001b[0;34m\u001b[0m\u001b[0;34m\u001b[0m\u001b[0m\n\u001b[1;32m   2042\u001b[0m         \u001b[0m_no_grad_embedding_renorm_\u001b[0m\u001b[0;34m(\u001b[0m\u001b[0mweight\u001b[0m\u001b[0;34m,\u001b[0m \u001b[0minput\u001b[0m\u001b[0;34m,\u001b[0m \u001b[0mmax_norm\u001b[0m\u001b[0;34m,\u001b[0m \u001b[0mnorm_type\u001b[0m\u001b[0;34m)\u001b[0m\u001b[0;34m\u001b[0m\u001b[0;34m\u001b[0m\u001b[0m\n\u001b[0;32m-> 2043\u001b[0;31m     \u001b[0;32mreturn\u001b[0m \u001b[0mtorch\u001b[0m\u001b[0;34m.\u001b[0m\u001b[0membedding\u001b[0m\u001b[0;34m(\u001b[0m\u001b[0mweight\u001b[0m\u001b[0;34m,\u001b[0m \u001b[0minput\u001b[0m\u001b[0;34m,\u001b[0m \u001b[0mpadding_idx\u001b[0m\u001b[0;34m,\u001b[0m \u001b[0mscale_grad_by_freq\u001b[0m\u001b[0;34m,\u001b[0m \u001b[0msparse\u001b[0m\u001b[0;34m)\u001b[0m\u001b[0;34m\u001b[0m\u001b[0;34m\u001b[0m\u001b[0m\n\u001b[0m\u001b[1;32m   2044\u001b[0m \u001b[0;34m\u001b[0m\u001b[0m\n\u001b[1;32m   2045\u001b[0m \u001b[0;34m\u001b[0m\u001b[0m\n",
      "\u001b[0;31mRuntimeError\u001b[0m: Expected all tensors to be on the same device, but found at least two devices, cuda:3 and cuda:2! (when checking arugment for argument index in method wrapper_index_select)"
     ]
    }
   ],
   "source": [
    "# the epoch loop\n",
    "\n",
    "with torch.enable_grad():\n",
    "  # validate_model()\n",
    "  for epoch in range(10):\n",
    "      running_reward = 10\n",
    "      t = 0\n",
    "      for _data in train_iterator:\n",
    "          # get the inputs\n",
    "          texts, text_lengths, labels = _data.text[0], _data.text[1], _data.label\n",
    "          print(\"Input review texts, text_lengths, labels\", texts.shape, text_lengths.shape, labels.shape)\n",
    "          print(device)\n",
    "          prediction = policy_model((texts.to('cuda:3'), text_lengths.to('cuda:3'), labels.to('cuda:3')))\n",
    "          # print(\"Prediction\", prediction.item())        \n",
    "          # raise ValueError('Not done')\n",
    "          t += 1\n",
    "          if t%2 == 0:\n",
    "            print(\"batch no. %d, training accuracy %4.2f\" % (t, policy_model.training_accuracy))\n",
    "          # if t%10 == 0:\n",
    "            # validate_model()\n",
    "            #print(\"wb\", policy_model.wb)\n",
    "            #print(\"lstm hh hi\", policy_model.lstm_cell.weight_hh, policy_model.lstm_cell.weight_ih)\n",
    "            #print(\"emb\", policy_model.embedding.weight)\n",
    "            #print(\"jmp\", policy_model.jumping_linear.weight)\n",
    "            #print(\"out\", policy_model.output_linear.weight)\n",
    "          if t%1000 == 0:\n",
    "            break\n",
    "          # update_policy()\n",
    "      #running_reward = 0.05 * policy_model.reward_episode + (1 - 0.05) * running_reward\n",
    "      #print(\"Epoch %d, reward %4.2f\" % (epoch, running_reward))\n",
    "      print(\"Epoch %d\" % (epoch))\n",
    "  print('**** Finished Training ****')\n",
    "# test_model()"
   ]
  }
 ],
 "metadata": {
  "interpreter": {
   "hash": "d585f5dd46ff142a1cbe6d0513d2e0a6b200deb517a60b6f75be1b97d8951e6e"
  },
  "kernelspec": {
   "display_name": "Python 3.7.11 64-bit ('seungjun': conda)",
   "name": "python3"
  },
  "language_info": {
   "codemirror_mode": {
    "name": "ipython",
    "version": 3
   },
   "file_extension": ".py",
   "mimetype": "text/x-python",
   "name": "python",
   "nbconvert_exporter": "python",
   "pygments_lexer": "ipython3",
   "version": "3.7.11"
  },
  "orig_nbformat": 4
 },
 "nbformat": 4,
 "nbformat_minor": 2
}
